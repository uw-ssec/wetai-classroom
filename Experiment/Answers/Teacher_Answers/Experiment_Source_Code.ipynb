{
 "cells": [
  {
   "cell_type": "markdown",
   "id": "9a76e8fb",
   "metadata": {},
   "source": [
    "<font size=7 face=\"courier\">Experiment Source Code"
   ]
  },
  {
   "cell_type": "markdown",
   "id": "0953a556",
   "metadata": {},
   "source": [
    "This is the code used to create the diagrams in the notebook, `Experiment_Introduction.ipynb`."
   ]
  },
  {
   "cell_type": "markdown",
   "id": "c4fc831b",
   "metadata": {
    "heading_collapsed": true
   },
   "source": [
    "# Set Up Notebook"
   ]
  },
  {
   "cell_type": "markdown",
   "id": "7e750365",
   "metadata": {
    "hidden": true
   },
   "source": [
    "import stuff"
   ]
  },
  {
   "cell_type": "code",
   "execution_count": 1,
   "id": "568b9bd7",
   "metadata": {
    "hidden": true
   },
   "outputs": [],
   "source": [
    "#!pip install powerlaw\n",
    "\n",
    "# !pip install smart_open\n",
    "# !pip install awswrangler\n",
    "# !pip install deprecated\n",
    "# !pip install nptyping"
   ]
  },
  {
   "cell_type": "markdown",
   "id": "a369330a",
   "metadata": {
    "hidden": true
   },
   "source": [
    "Import Packages"
   ]
  },
  {
   "cell_type": "code",
   "execution_count": 2,
   "id": "24ab5182",
   "metadata": {
    "hidden": true
   },
   "outputs": [],
   "source": [
    "import numpy as np\n",
    "import matplotlib.pyplot as plt\n",
    "import braingeneers\n",
    "from braingeneers.analysis.analysis import SpikeData, read_phy_files\n",
    "import braingeneers.data.datasets_electrophysiology as ephys\n",
    "import scipy.io as sio\n",
    "import scipy\n",
    "from scipy.ndimage import gaussian_filter1d\n",
    "import glob\n",
    "import pandas as pd\n",
    "from ipywidgets import interact, interactive, fixed, interact_manual\n",
    "import random\n",
    "#import matplotlib.patches as mpatches"
   ]
  },
  {
   "cell_type": "markdown",
   "id": "cfc249db",
   "metadata": {
    "hidden": true
   },
   "source": [
    "Load Data"
   ]
  },
  {
   "cell_type": "code",
   "execution_count": 3,
   "id": "b19d4f6a",
   "metadata": {
    "hidden": true
   },
   "outputs": [
    {
     "name": "stdout",
     "output_type": "stream",
     "text": [
      "Loading ./data/ephys/2022-04-28-e-/derived/kilosort2/Trace_20220428_15_52_47_chip11350_curated.zip\n"
     ]
    }
   ],
   "source": [
    "braingeneers.set_default_endpoint(\"./data\")\n",
    "files = glob.glob('./data/ephys/2022-04-28-e-/derived/kilosort2/*')\n",
    "print('Loading', files[0])\n",
    "sd = read_phy_files(files[0])\n",
    "metadata = ephys.load_metadata('2022-04-28-e-')"
   ]
  },
  {
   "cell_type": "markdown",
   "id": "af43ff46",
   "metadata": {
    "hidden": true
   },
   "source": [
    "Get 2D layout of all electrodes"
   ]
  },
  {
   "cell_type": "code",
   "execution_count": 4,
   "id": "bc249aa2",
   "metadata": {
    "hidden": true
   },
   "outputs": [],
   "source": [
    "electrode_mapping = pd.DataFrame( metadata['ephys_experiments']['Trace_20220428_15_52_47_chip11350']['mapping'],\n",
    "                                  columns=['channel','electrode','x','y'] )"
   ]
  },
  {
   "cell_type": "markdown",
   "id": "22bb1e60",
   "metadata": {
    "heading_collapsed": true
   },
   "source": [
    "# <font color=\"blue\">electrode_layout</font> "
   ]
  },
  {
   "cell_type": "markdown",
   "id": "0f879907",
   "metadata": {
    "hidden": true
   },
   "source": [
    "plots the placement of all the recording electrodes"
   ]
  },
  {
   "cell_type": "code",
   "execution_count": 5,
   "id": "e59d994f",
   "metadata": {
    "hidden": true
   },
   "outputs": [],
   "source": [
    "def electrodeLayout():\n",
    "    x = electrode_mapping.x.values\n",
    "    y = electrode_mapping.y.values\n",
    "\n",
    "    plt.scatter(x,y,s=2)\n",
    "    plt.xlabel('um')\n",
    "    plt.ylabel('um')\n",
    "    plt.title(\"electrode layout\")\n",
    "    plt.show()"
   ]
  },
  {
   "cell_type": "code",
   "execution_count": 6,
   "id": "f621fc44",
   "metadata": {
    "hidden": true
   },
   "outputs": [],
   "source": [
    "#electrodeLayout()"
   ]
  },
  {
   "cell_type": "markdown",
   "id": "ae7a0f9f",
   "metadata": {
    "heading_collapsed": true
   },
   "source": [
    "# <font color=\"blue\">neuronLayout</font> "
   ]
  },
  {
   "cell_type": "markdown",
   "id": "ebafa4e3",
   "metadata": {
    "hidden": true
   },
   "source": [
    "Plots the putative neural units found from spike sorting"
   ]
  },
  {
   "cell_type": "code",
   "execution_count": 7,
   "id": "2088254d",
   "metadata": {
    "hidden": true
   },
   "outputs": [],
   "source": [
    "def neuronLayout():\n",
    "    x = electrode_mapping.x.values\n",
    "    y = electrode_mapping.y.values\n",
    "\n",
    "    plt.scatter(x,y,s=2)\n",
    "\n",
    "    neuron_x = []\n",
    "    neuron_y = []\n",
    "    neuron_amp = []\n",
    "    for neuron in sd.neuron_data[0].values():\n",
    "    #     print(\"x,y:\",neuron['position'])\n",
    "        neuron_x.append(neuron['position'][0])\n",
    "\n",
    "        neuron_y.append(neuron['position'][1])\n",
    "        neuron_amp.append(np.mean(neuron['amplitudes']))\n",
    "\n",
    "    # \n",
    "    plt.scatter(neuron_x,neuron_y,s=neuron_amp,c='r')\n",
    "\n",
    "\n",
    "    plt.xlabel('um')\n",
    "    plt.ylabel('um')\n",
    "    plt.title(\"electrode layout\")\n",
    "    plt.show()"
   ]
  },
  {
   "cell_type": "code",
   "execution_count": 8,
   "id": "3ce84e47",
   "metadata": {
    "hidden": true
   },
   "outputs": [],
   "source": [
    "#neuronLayout()"
   ]
  },
  {
   "cell_type": "markdown",
   "id": "5b6c8152",
   "metadata": {
    "heading_collapsed": true
   },
   "source": [
    "# <font color=\"blue\">sttcLayout"
   ]
  },
  {
   "cell_type": "markdown",
   "id": "59b14b7b",
   "metadata": {
    "hidden": true
   },
   "source": [
    "Show which neurons are connected via spike time tiling"
   ]
  },
  {
   "cell_type": "code",
   "execution_count": 9,
   "id": "707b59d8",
   "metadata": {
    "code_folding": [],
    "hidden": true
   },
   "outputs": [],
   "source": [
    "def sttcLayout( threshold ):\n",
    "    # Lets bring back our graph, and overlay these as connectivity lines\n",
    "\n",
    "    sttc = sd.spike_time_tilings()\n",
    "    # electrodes\n",
    "    x = electrode_mapping.x.values\n",
    "    y = electrode_mapping.y.values\n",
    "    neuron_x = []\n",
    "    neuron_y = []\n",
    "    neuron_amp = []\n",
    "    for neuron in sd.neuron_data[0].values():\n",
    "        #     print(\"x,y:\",neuron['position'])\n",
    "        neuron_x.append(neuron['position'][0])\n",
    "        neuron_y.append(neuron['position'][1])\n",
    "        neuron_amp.append(np.mean(neuron['amplitudes']))\n",
    "    \n",
    "    plt.figure(figsize=(15,6))\n",
    "    plt.subplot(1, 2, 1)\n",
    "    plt.scatter(x,y,s=2)\n",
    "    # Neurons\n",
    "    plt.scatter(neuron_x,neuron_y,s=neuron_amp,c='r')\n",
    "\n",
    "    # Now lines for each neuron if above threshhold\n",
    "    for i in range(sttc.shape[0]):\n",
    "        for j in range(sttc.shape[1]):\n",
    "\n",
    "            # Only need to do upper triangle since sttc' = sttc\n",
    "            if i<=j: continue\n",
    "\n",
    "            if sttc[i,j] < threshold : continue\n",
    "\n",
    "            #Position of neuron i\n",
    "            ix,iy = sd.neuron_data[0][i]['position']\n",
    "            jx,jy = sd.neuron_data[0][j]['position']\n",
    "\n",
    "            # Plot line between the points, linewidth is the sttc\n",
    "            plt.plot([ix,jx],[iy,jy], linewidth=sttc[i,j],c='k')\n",
    "\n",
    "    plt.xlabel('um')\n",
    "    plt.ylabel('um')\n",
    "    plt.title(\"electrode layout\")\n",
    "    \n",
    "    \n",
    "\n",
    "    plt.subplot(1, 2, 2)\n",
    "    sttc[sttc<threshold ] = 0\n",
    "    plt.imshow(sttc,vmin=0,vmax=1)\n",
    "    plt.colorbar()\n",
    "    plt.title(\"Spike Time Tiling\")\n",
    "    plt.show()"
   ]
  },
  {
   "cell_type": "code",
   "execution_count": 10,
   "id": "45231c12",
   "metadata": {
    "hidden": true
   },
   "outputs": [],
   "source": [
    "#sttcLayout(.8)"
   ]
  },
  {
   "cell_type": "markdown",
   "id": "2db86765",
   "metadata": {
    "heading_collapsed": true
   },
   "source": [
    "# <font color=\"blue\">Latency Plots"
   ]
  },
  {
   "cell_type": "markdown",
   "id": "506dd16d",
   "metadata": {
    "hidden": true
   },
   "source": [
    "Displays two plots. The left plot shows which two points the latencies are being calculated between. The right plot is a histogram of all the latencies between the points.\n"
   ]
  },
  {
   "cell_type": "code",
   "execution_count": 11,
   "id": "a17caa3b",
   "metadata": {
    "hidden": true
   },
   "outputs": [],
   "source": [
    "def latencyPlots(neuron1, neuron2):\n",
    "    \n",
    "    # Create plot of neural units with selected neurons for latency calculation in green\n",
    "    plt.figure(figsize=(15,6))\n",
    "    plt.subplot(1, 2, 1)\n",
    "    \n",
    "    x = electrode_mapping.x.values\n",
    "    y = electrode_mapping.y.values\n",
    "    plt.scatter(x,y,s=2)\n",
    "\n",
    "    neuron_x = []\n",
    "    neuron_y = []\n",
    "    neuron_amp = []\n",
    "    for neuron in sd.neuron_data[0].values():\n",
    "    #     print(\"x,y:\",neuron['position'])\n",
    "        neuron_x.append(neuron['position'][0])\n",
    "\n",
    "        neuron_y.append(neuron['position'][1])\n",
    "        neuron_amp.append(np.mean(neuron['amplitudes']))\n",
    "\n",
    "    plt.scatter(neuron_x,neuron_y,s=neuron_amp,c='r')\n",
    "    plt.scatter(neuron_x,neuron_y,s=neuron_amp,c='r')\n",
    "\n",
    "    plt.scatter([neuron_x[neuron1]],[neuron_y[neuron1]],s=70,c='g')\n",
    "    plt.scatter([neuron_x[neuron2]],[neuron_y[neuron2]],s=70,c='g')\n",
    "\n",
    "    plt.xlabel('um')\n",
    "    plt.ylabel('um')\n",
    "    plt.title(\"electrode layout\")\n",
    "    #plt.show()\n",
    "    \n",
    "    # Plot Histogram of latencies\n",
    "    plt.subplot(1, 2, 2)\n",
    "    lates_n1 = sd.latencies_to_index(neuron1)\n",
    "    lates_raw = lates_n1[neuron2]\n",
    "    lates =  list(filter(lambda x: x < 10 and x > -10, lates_raw ))\n",
    "    plt.hist(lates,bins=8)\n",
    "    #plt.xlim([-25,25])\n",
    "    print(\"Mean Latency: \", np.mean(lates) )\n",
    "    print(\"Number of Latencies: \", len(lates))\n",
    "    plt.show()\n",
    "    \n",
    "    "
   ]
  },
  {
   "cell_type": "markdown",
   "id": "e2d9f963",
   "metadata": {
    "heading_collapsed": true
   },
   "source": [
    "# <font color=\"blue\"> deltaLayout"
   ]
  },
  {
   "cell_type": "markdown",
   "id": "0ce294b5",
   "metadata": {
    "hidden": true
   },
   "source": [
    "Creates a hypothetical electrode grid for a delta connectoid"
   ]
  },
  {
   "cell_type": "code",
   "execution_count": 12,
   "id": "3bb311a7",
   "metadata": {
    "hidden": true
   },
   "outputs": [],
   "source": [
    "def deltaLayout():\n",
    "    random.seed(0)\n",
    "    x = [int(random.gauss(1000,200)) for i in range(400)]\n",
    "    y = [int(random.gauss(1900,200)) for i in range(400)]\n",
    "    x = x + [int(random.gauss(2500,200)) for i in range(400)]\n",
    "    y = y + [int(random.gauss(1000,200)) for i in range(400)]\n",
    "    x = x + [int(random.gauss(1000,200)) for i in range(400)]\n",
    "    y = y + [int(random.gauss(700,200)) for i in range(400)]\n",
    "\n",
    "    plt.scatter(x,y,s=2)\n",
    "    plt.xlabel('um')\n",
    "    plt.ylabel('um')\n",
    "    plt.title(\"electrode layout\")\n",
    "    plt.show()"
   ]
  },
  {
   "cell_type": "code",
   "execution_count": 13,
   "id": "37c761b4",
   "metadata": {
    "hidden": true
   },
   "outputs": [],
   "source": [
    "#deltaLayout()"
   ]
  },
  {
   "cell_type": "code",
   "execution_count": 14,
   "id": "35105783",
   "metadata": {
    "hidden": true
   },
   "outputs": [],
   "source": [
    "#latencyPlots(3,15)"
   ]
  },
  {
   "cell_type": "markdown",
   "id": "562c1d40",
   "metadata": {
    "heading_collapsed": true
   },
   "source": [
    "# Stim Basic Pulse"
   ]
  },
  {
   "cell_type": "markdown",
   "id": "dccecf76",
   "metadata": {
    "hidden": true
   },
   "source": [
    "<font color=\"red\"><b>Warning:</b> This code gets very messy. I do not reccomend reading it. You do not need to know it for the HW."
   ]
  },
  {
   "cell_type": "markdown",
   "id": "c0ecab50",
   "metadata": {
    "heading_collapsed": true,
    "hidden": true
   },
   "source": [
    "## <font color=\"gray\">Helper Code"
   ]
  },
  {
   "cell_type": "markdown",
   "id": "2ef46a4a",
   "metadata": {
    "hidden": true
   },
   "source": [
    "Get time and signal"
   ]
  },
  {
   "cell_type": "code",
   "execution_count": 15,
   "id": "573aaf60",
   "metadata": {
    "hidden": true
   },
   "outputs": [],
   "source": [
    "def getTimeSignal(seconds, num_neurons=1):\n",
    "    s_to_fs = 20000 \n",
    "    return np.arange(0,seconds*s_to_fs)/s_to_fs , np.zeros((seconds* s_to_fs, num_neurons))"
   ]
  },
  {
   "cell_type": "markdown",
   "id": "7428636f",
   "metadata": {
    "hidden": true
   },
   "source": [
    "create square wave"
   ]
  },
  {
   "cell_type": "code",
   "execution_count": 16,
   "id": "da8eda1a",
   "metadata": {
    "hidden": true
   },
   "outputs": [],
   "source": [
    "def squareWave( signal, time_s, phase_us=200, amp_mV=150):\n",
    "    s_to_fs = 20000   #ms_to_fs=20\n",
    "    us_to_fs = .02\n",
    "    \n",
    "    time_fs  = time_s * s_to_fs\n",
    "    phase_fs =  int(phase_us * us_to_fs)   # Previously used ms #phase_fs = phase_ms * ms_to_fs\n",
    "    half_phase_fs = int(phase_fs/2)\n",
    "    \n",
    "    signal[ time_fs:time_fs+half_phase_fs] = amp_mV\n",
    "    signal[ time_fs+half_phase_fs : time_fs+half_phase_fs*2] = -amp_mV\n",
    "    return signal\n"
   ]
  },
  {
   "cell_type": "markdown",
   "id": "0f227e43",
   "metadata": {
    "heading_collapsed": true,
    "hidden": true
   },
   "source": [
    "## <font color=\"blue\">stimBasicPulse"
   ]
  },
  {
   "cell_type": "markdown",
   "id": "f2533ebf",
   "metadata": {
    "hidden": true
   },
   "source": [
    "Plots an example of a basic stim pulse"
   ]
  },
  {
   "cell_type": "code",
   "execution_count": 17,
   "id": "a4dfa443",
   "metadata": {
    "hidden": true
   },
   "outputs": [],
   "source": [
    "def plotPulse():\n",
    "    t,signal =  getTimeSignal(60)\n",
    "    signal = squareWave( signal, time_s=1, phase_us=200, amp_mV=150 )\n",
    "\n",
    "    plt.plot(t,signal)\n",
    "    plt.xlim([.998,1.002])\n",
    "    plt.xlabel('seconds')\n",
    "    plt.ylabel('Voltage (mv)')\n",
    "    plt.show()"
   ]
  },
  {
   "cell_type": "markdown",
   "id": "23570bd3",
   "metadata": {
    "heading_collapsed": true
   },
   "source": [
    "# Stim Sequence Creater"
   ]
  },
  {
   "cell_type": "markdown",
   "id": "dfdbc290",
   "metadata": {
    "hidden": true
   },
   "source": [
    "<font color=\"red\"><b>Warning:</b> This code gets very messy. I do not reccomend reading it. You do not need to know it for the HW."
   ]
  },
  {
   "cell_type": "markdown",
   "id": "6c845e66",
   "metadata": {
    "heading_collapsed": true,
    "hidden": true
   },
   "source": [
    "## <font color=\"gray\"> Helper Code"
   ]
  },
  {
   "cell_type": "code",
   "execution_count": 18,
   "id": "595831cd",
   "metadata": {
    "hidden": true
   },
   "outputs": [],
   "source": [
    "def insert_square_wave_advanced(sig,time,phase_length=20, amplitude=1):\n",
    "    '''Deflects positively at *time* for 20 samples (1ms) then deflects negatively for 20 samples, \n",
    "    then returns to normal'''\n",
    "    sig[time:time+phase_length] = amplitude\n",
    "    sig[time+phase_length:time+phase_length*2] = -amplitude\n",
    "    return sig"
   ]
  },
  {
   "cell_type": "markdown",
   "id": "42d7180f",
   "metadata": {
    "heading_collapsed": true,
    "hidden": true
   },
   "source": [
    "## <font color=\"blue\"> Main Code Here"
   ]
  },
  {
   "cell_type": "code",
   "execution_count": 19,
   "id": "7a00a4ff",
   "metadata": {
    "hidden": true
   },
   "outputs": [],
   "source": [
    "\n",
    "def create_stim_pulse_sequence(stim_list, freq_Hz=None, time_arr = None,max_time_s = 1):\n",
    "    \"\"\"\n",
    "    Creates a stim pulse sequence, parallels the real code that will run on the Maxwell\n",
    "    \n",
    "    Params:\n",
    "    stim_list - list of tuples indicating the commands to run\n",
    "            ------------------------------------------------\n",
    "            For 'stim' command:\n",
    "            ('stim', [neuron inds], mv, us per phase)\n",
    "\n",
    "            For 'delay'\n",
    "            ('delay', frames_delay)\n",
    "            \n",
    "            For 'next'\n",
    "            ('next', None)\n",
    "            This command acts as a placeholder to move to the next timepoint in the time_arr or the next\n",
    "            period triggered by the freq_Hz\n",
    "            -------------------------------------------------\n",
    "    freq_Hz - frequency to call the top stim_list in\n",
    "            *Note* this takes priority over time_arr\n",
    "    time_arr - array of time values that will be when the stimulations occur in order\n",
    "    \n",
    "    max_time_s - time in seconds to stimulate\n",
    "    \n",
    "    \n",
    "    Returns:\n",
    "    sig - np.array -- shape=(n_neurons, timesteps) of what the signal will look like\n",
    "    t - np.array   -- shape=(timesteps) of time in seconds\n",
    "    \"\"\"\n",
    "    \n",
    "    # Since this is fake, only parallels the code on the device,\n",
    "    # We have to make our own time\n",
    "    # And simulate what the stimulation will look like\n",
    "    \n",
    "    # Conversion paramerters\n",
    "    fs_ms = 20 # Good for converting frames to ms\n",
    "    fs_us = .2\n",
    "    \n",
    "    # stim list\n",
    "    seq = ('next',None)\n",
    "    stim_list.append(seq)\n",
    "    stim_list=stim_list*freq_Hz\n",
    "    \n",
    "    # Setup\n",
    "    fs = 20000\n",
    "    n_neurons = 3\n",
    "    t = np.arange(0,fs*max_time_s)/fs\n",
    "    sig = np.zeros(shape=(n_neurons,t.shape[0]))\n",
    "    \n",
    "    \n",
    "    # This would be generated in *real time*\n",
    "    if freq_Hz is not None:\n",
    "        # Until the time is right to stimulation the sequence\n",
    "        for time in t[::fs//freq_Hz]:\n",
    "            time_frames = int(time*fs)\n",
    "            \n",
    "            \n",
    "            if len(stim_list) == 0:\n",
    "                return sig\n",
    "            \n",
    "            #Build the sequence\n",
    "            command = None\n",
    "            \n",
    "            while (command != 'next'):\n",
    "                command, *params = stim_list.pop(0) # Get first thing off list\n",
    "                if command == 'stim':\n",
    "                    neurons, amplitude, phase_length = params\n",
    "                    phase_length = int(phase_length*fs_us)\n",
    "                    \n",
    "                    # Change signal for each neuron\n",
    "                    for n in neurons:\n",
    "                        sig[n,:] = insert_square_wave_advanced(sig[n,:],time_frames,phase_length, amplitude=amplitude)\n",
    "                    time_frames += phase_length*2\n",
    "                    \n",
    "                if command == 'delay':\n",
    "                    time_frames += fs_ms*params[0]\n",
    "                    \n",
    "                #double checking here\n",
    "                if command == 'next':\n",
    "                    break \n",
    "                    \n",
    "        return sig,t"
   ]
  },
  {
   "cell_type": "markdown",
   "id": "66c683d4",
   "metadata": {
    "hidden": true
   },
   "source": [
    "Example"
   ]
  },
  {
   "cell_type": "code",
   "execution_count": 20,
   "id": "e1c6c88f",
   "metadata": {
    "hidden": true
   },
   "outputs": [],
   "source": [
    "# stim_pattern = []\n",
    "# stim_pattern.append(('stim',[0],150,200))\n",
    "# stim_pattern.append(('delay',20))\n",
    "# stim_pattern.append(('stim',[1],200,20))\n",
    "# #stim_pattern.append(('delay',250))\n",
    "# #stim_pattern.append(('stim',[0,1,2],150,20))\n",
    "# signal,t = create_stim_pulse_sequence(stim_pattern, freq_Hz=1)\n",
    "\n"
   ]
  },
  {
   "cell_type": "markdown",
   "id": "857a8126",
   "metadata": {
    "heading_collapsed": true,
    "hidden": true
   },
   "source": [
    "## Plot Pulses"
   ]
  },
  {
   "cell_type": "code",
   "execution_count": 21,
   "id": "a9275216",
   "metadata": {
    "hidden": true
   },
   "outputs": [],
   "source": [
    "def plotStimPattern(signal,t):\n",
    "    plt.plot(t,signal.T)\n",
    "    plt.legend(['n0','n1','n2'])\n",
    "    plt.xlabel('seconds')\n",
    "    plt.ylabel('Voltage (mv)')\n",
    "    plt.title(\"Stim Pattern over 1 Second\")\n",
    "    plt.show()"
   ]
  },
  {
   "cell_type": "code",
   "execution_count": 22,
   "id": "597a6b36",
   "metadata": {
    "hidden": true
   },
   "outputs": [],
   "source": [
    "#plotStimPattern(signal)"
   ]
  },
  {
   "cell_type": "markdown",
   "id": "4d769d6e",
   "metadata": {
    "heading_collapsed": true,
    "hidden": true
   },
   "source": [
    "## Plot Individual Neurons"
   ]
  },
  {
   "cell_type": "code",
   "execution_count": 23,
   "id": "85b6b56f",
   "metadata": {
    "hidden": true
   },
   "outputs": [],
   "source": [
    "def plotIndividualPatterns(signal,t):\n",
    "    names=[\"n0\",\"n1\",\"n2\"]\n",
    "    color=[\"b\",\"#F97306\",\"g\"]\n",
    "    plt.figure(figsize=(16,4))\n",
    "    for i in range(3):\n",
    "        plt.subplot(1, 3, i+1)\n",
    "        plt.plot(t,signal[i], color=color[i])\n",
    "        plt.legend([f\"n{i}\"])\n",
    "        plt.ylabel('Voltage (mv)')\n",
    "        plt.xlabel('seconds')\n",
    "        plt.show"
   ]
  },
  {
   "cell_type": "code",
   "execution_count": 24,
   "id": "4abeda15",
   "metadata": {
    "hidden": true
   },
   "outputs": [],
   "source": [
    "#plotIndividualPatterns(signal)"
   ]
  },
  {
   "cell_type": "code",
   "execution_count": null,
   "id": "1c6f8ec9",
   "metadata": {
    "hidden": true
   },
   "outputs": [],
   "source": []
  }
 ],
 "metadata": {
  "hide_input": true,
  "kernelspec": {
   "display_name": "Python 3 (ipykernel)",
   "language": "python",
   "name": "python3"
  },
  "language_info": {
   "codemirror_mode": {
    "name": "ipython",
    "version": 3
   },
   "file_extension": ".py",
   "mimetype": "text/x-python",
   "name": "python",
   "nbconvert_exporter": "python",
   "pygments_lexer": "ipython3",
   "version": "3.10.10"
  },
  "toc": {
   "base_numbering": 1,
   "nav_menu": {},
   "number_sections": true,
   "sideBar": true,
   "skip_h1_title": false,
   "title_cell": "Table of Contents",
   "title_sidebar": "Contents",
   "toc_cell": false,
   "toc_position": {},
   "toc_section_display": true,
   "toc_window_display": false
  },
  "varInspector": {
   "cols": {
    "lenName": 16,
    "lenType": 16,
    "lenVar": 40
   },
   "kernels_config": {
    "python": {
     "delete_cmd_postfix": "",
     "delete_cmd_prefix": "del ",
     "library": "var_list.py",
     "varRefreshCmd": "print(var_dic_list())"
    },
    "r": {
     "delete_cmd_postfix": ") ",
     "delete_cmd_prefix": "rm(",
     "library": "var_list.r",
     "varRefreshCmd": "cat(var_dic_list()) "
    }
   },
   "types_to_exclude": [
    "module",
    "function",
    "builtin_function_or_method",
    "instance",
    "_Feature"
   ],
   "window_display": false
  }
 },
 "nbformat": 4,
 "nbformat_minor": 5
}
