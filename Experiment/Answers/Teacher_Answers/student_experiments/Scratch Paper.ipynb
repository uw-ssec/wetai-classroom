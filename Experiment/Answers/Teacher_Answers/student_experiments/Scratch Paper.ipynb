{
 "cells": [
  {
   "cell_type": "markdown",
   "id": "5900c321",
   "metadata": {},
   "source": [
    "<font size=\"7\"> Experiment Scratch Paper"
   ]
  },
  {
   "cell_type": "markdown",
   "id": "ebc3af96",
   "metadata": {},
   "source": [
    "This is where I create the code inside of the `.py` files for each students experiments"
   ]
  },
  {
   "cell_type": "markdown",
   "id": "6de977ca",
   "metadata": {},
   "source": [
    "# <font color='gray'>Helper Functions"
   ]
  },
  {
   "cell_type": "code",
   "execution_count": 1,
   "id": "f1a6cfbd",
   "metadata": {},
   "outputs": [],
   "source": [
    "import numpy as np\n",
    "import matplotlib.pyplot as plt"
   ]
  },
  {
   "cell_type": "markdown",
   "id": "b66e5e11",
   "metadata": {
    "heading_collapsed": true
   },
   "source": [
    "## Create stim patterns"
   ]
  },
  {
   "cell_type": "code",
   "execution_count": 5,
   "id": "bfd65208",
   "metadata": {
    "hidden": true
   },
   "outputs": [],
   "source": [
    "def insert_square_wave_advanced(sig,time,phase_length=20, amplitude=1):\n",
    "    '''Deflects positively at *time* for 20 samples (1ms) then deflects negatively for 20 samples, \n",
    "    then returns to normal'''\n",
    "    sig[time:time+phase_length] = amplitude\n",
    "    sig[time+phase_length:time+phase_length*2] = -amplitude\n",
    "    return sig\n",
    "\n",
    "\n",
    "def create_stim_pulse_sequence(stim_list, freq_Hz=None, time_arr = None,max_time_s = 1):\n",
    "    \"\"\"\n",
    "    Creates a stim pulse sequence, parallels the real code that will run on the Maxwell\n",
    "    \n",
    "    Params:\n",
    "    stim_list - list of tuples indicating the commands to run\n",
    "            ------------------------------------------------\n",
    "            For 'stim' command:\n",
    "            ('stim', [neuron inds], mv, us per phase)\n",
    "\n",
    "            For 'delay'\n",
    "            ('delay', frames_delay)\n",
    "            \n",
    "            For 'next'\n",
    "            ('next', None)\n",
    "            This command acts as a placeholder to move to the next timepoint in the time_arr or the next\n",
    "            period triggered by the freq_Hz\n",
    "            -------------------------------------------------\n",
    "    freq_Hz - frequency to call the top stim_list in\n",
    "            *Note* this takes priority over time_arr\n",
    "    time_arr - array of time values that will be when the stimulations occur in order\n",
    "    \n",
    "    max_time_s - time in seconds to stimulate\n",
    "    \n",
    "    \n",
    "    Returns:\n",
    "    sig - np.array -- shape=(n_neurons, timesteps) of what the signal will look like\n",
    "    t - np.array   -- shape=(timesteps) of time in seconds\n",
    "    \"\"\"\n",
    "    \n",
    "    # Since this is fake, only parallels the code on the device,\n",
    "    # We have to make our own time\n",
    "    # And simulate what the stimulation will look like\n",
    "    \n",
    "    # Conversion paramerters\n",
    "    fs_ms = 20 # Good for converting frames to ms\n",
    "    fs_us = .2\n",
    "    \n",
    "    # stim list\n",
    "    seq = ('next',None)\n",
    "    stim_list.append(seq)\n",
    "    stim_list=stim_list*freq_Hz\n",
    "    \n",
    "    # Setup\n",
    "    fs = 20000\n",
    "    n_neurons = 3\n",
    "    t = np.arange(0,fs*max_time_s)/fs\n",
    "    sig = np.zeros(shape=(n_neurons,t.shape[0]))\n",
    "    \n",
    "    \n",
    "    # This would be generated in *real time*\n",
    "    if freq_Hz is not None:\n",
    "        # Until the time is right to stimulation the sequence\n",
    "        for time in t[::fs//freq_Hz]:\n",
    "            time_frames = int(time*fs)\n",
    "            \n",
    "            \n",
    "            if len(stim_list) == 0:\n",
    "                return sig\n",
    "            \n",
    "            #Build the sequence\n",
    "            command = None\n",
    "            \n",
    "            while (command != 'next'):\n",
    "                command, *params = stim_list.pop(0) # Get first thing off list\n",
    "                if command == 'stim':\n",
    "                    neurons, amplitude, phase_length = params\n",
    "                    phase_length = int(phase_length*fs_us)\n",
    "                    \n",
    "                    # Change signal for each neuron\n",
    "                    for n in neurons:\n",
    "                        sig[n,:] = insert_square_wave_advanced(sig[n,:],time_frames,phase_length, amplitude=amplitude)\n",
    "                    time_frames += phase_length*2\n",
    "                    \n",
    "                if command == 'delay':\n",
    "                    time_frames += fs_ms*params[0]\n",
    "                    \n",
    "                #double checking here\n",
    "                if command == 'next':\n",
    "                    break \n",
    "                    \n",
    "        return sig,t\n"
   ]
  },
  {
   "cell_type": "markdown",
   "id": "fdc91781",
   "metadata": {},
   "source": [
    "## Create Plots"
   ]
  },
  {
   "cell_type": "code",
   "execution_count": null,
   "id": "5526f51e",
   "metadata": {},
   "outputs": [],
   "source": [
    "def plotStimPattern(signal,t):\n",
    "    plt.plot(t,signal.T)\n",
    "    plt.legend(['n0','n1','n2'])\n",
    "    plt.xlabel('seconds')\n",
    "    plt.ylabel('Voltage (mv)')\n",
    "    plt.title(\"Stim Pattern over 1 Second\")\n",
    "    plt.show()"
   ]
  },
  {
   "cell_type": "code",
   "execution_count": null,
   "id": "b49e172b",
   "metadata": {},
   "outputs": [],
   "source": [
    "def plotIndividualPatterns(signal,t):\n",
    "    names=[\"n0\",\"n1\",\"n2\"]\n",
    "    color=[\"b\",\"#F97306\",\"g\"]\n",
    "    plt.figure(figsize=(16,4))\n",
    "    for i in range(3):\n",
    "        plt.subplot(1, 3, i+1)\n",
    "        plt.plot(t,signal[i], color=color[i])\n",
    "        plt.legend([f\"n{i}\"])\n",
    "        plt.ylabel('Voltage (mv)')\n",
    "        plt.xlabel('seconds')\n",
    "        plt.show"
   ]
  },
  {
   "cell_type": "markdown",
   "id": "ff7efe61",
   "metadata": {},
   "source": [
    "# Group 5"
   ]
  },
  {
   "cell_type": "markdown",
   "id": "bf3a4279",
   "metadata": {
    "heading_collapsed": true
   },
   "source": [
    "## Original Code"
   ]
  },
  {
   "cell_type": "code",
   "execution_count": null,
   "id": "23ba0756",
   "metadata": {
    "hidden": true
   },
   "outputs": [],
   "source": [
    "stim_pattern1 = []\n",
    "stim_pattern1.append(('stim',[0],150,200))\n",
    "signal1,t1 = create_stim_pulse_sequence(stim_pattern1, freq_Hz=25)\n",
    "stim_pattern2 = []\n",
    "stim_pattern2.append(('stim',[1],150,400))\n",
    "signal2,t2 = create_stim_pulse_sequence(stim_pattern2, freq_Hz=5)"
   ]
  },
  {
   "cell_type": "code",
   "execution_count": null,
   "id": "73dc672b",
   "metadata": {
    "hidden": true
   },
   "outputs": [],
   "source": [
    "plotStimPattern(signal1,t1)\n",
    "plotStimPattern(signal2,t2)"
   ]
  },
  {
   "cell_type": "markdown",
   "id": "92beca81",
   "metadata": {
    "heading_collapsed": true
   },
   "source": [
    "## Create pattern"
   ]
  },
  {
   "cell_type": "code",
   "execution_count": null,
   "id": "ad2eded2",
   "metadata": {
    "hidden": true
   },
   "outputs": [],
   "source": [
    "stim_pattern = []\n",
    "stim_pattern.append(('stim',[0,1],150,200))\n",
    "for i in range(4):\n",
    "    stim_pattern.append(('delay',33))\n",
    "    stim_pattern.append(('stim',[1],150,400))\n",
    "signal,t = create_stim_pulse_sequence(stim_pattern, freq_Hz=5)"
   ]
  },
  {
   "cell_type": "markdown",
   "id": "bdcd77eb",
   "metadata": {
    "heading_collapsed": true
   },
   "source": [
    "## Check plots"
   ]
  },
  {
   "cell_type": "markdown",
   "id": "1f6f1c6c",
   "metadata": {
    "hidden": true
   },
   "source": [
    "plot everything"
   ]
  },
  {
   "cell_type": "code",
   "execution_count": null,
   "id": "fa7a838f",
   "metadata": {
    "hidden": true
   },
   "outputs": [],
   "source": [
    "plotStimPattern(signal,t)"
   ]
  },
  {
   "cell_type": "markdown",
   "id": "c145de67",
   "metadata": {
    "hidden": true
   },
   "source": [
    "plot individual electrodes"
   ]
  },
  {
   "cell_type": "code",
   "execution_count": null,
   "id": "7ec8b131",
   "metadata": {
    "hidden": true
   },
   "outputs": [],
   "source": [
    "plotIndividualPatterns(signal,t)"
   ]
  },
  {
   "cell_type": "markdown",
   "id": "d9558dae",
   "metadata": {
    "hidden": true
   },
   "source": [
    "Close up plot"
   ]
  },
  {
   "cell_type": "code",
   "execution_count": null,
   "id": "e9e6aa86",
   "metadata": {
    "hidden": true
   },
   "outputs": [],
   "source": [
    "plt.plot(t,signal.T)\n",
    "plt.legend(['n0','n1','n2'])\n",
    "plt.xlabel('seconds')\n",
    "plt.ylabel('Voltage (mv)')\n",
    "plt.title(\"Stim Pattern over 1 Second\")\n",
    "plt.xlim(0,.25)\n",
    "plt.show()"
   ]
  },
  {
   "cell_type": "markdown",
   "id": "85010b2a",
   "metadata": {},
   "source": [
    "# Group  2"
   ]
  },
  {
   "cell_type": "markdown",
   "id": "2bfe1174",
   "metadata": {},
   "source": [
    "## Original Code"
   ]
  },
  {
   "cell_type": "code",
   "execution_count": 2,
   "id": "942c5d02",
   "metadata": {},
   "outputs": [],
   "source": [
    "# option 1\n",
    "from math import sqrt\n",
    "from scipy.stats import norm\n",
    "import numpy as np\n",
    "\n",
    "def brownian(x0, n, dt, delta, out=None):\n",
    "    \"\"\"\n",
    "    Generate an instance of Brownian motion (i.e. the Wiener process):\n",
    "\n",
    "        X(t) = X(0) + N(0, delta**2 * t; 0, t)\n",
    "\n",
    "    where N(a,b; t0, t1) is a normally distributed random variable with mean a and\n",
    "    variance b.  The parameters t0 and t1 make explicit the statistical\n",
    "    independence of N on different time intervals; that is, if [t0, t1) and\n",
    "    [t2, t3) are disjoint intervals, then N(a, b; t0, t1) and N(a, b; t2, t3)\n",
    "    are independent.\n",
    "    \n",
    "    Written as an iteration scheme,\n",
    "\n",
    "        X(t + dt) = X(t) + N(0, delta**2 * dt; t, t+dt)\n",
    "\n",
    "\n",
    "    If `x0` is an array (or array-like), each value in `x0` is treated as\n",
    "    an initial condition, and the value returned is a numpy array with one\n",
    "    more dimension than `x0`.\n",
    "\n",
    "    Arguments\n",
    "    ---------\n",
    "    x0 : float or numpy array (or something that can be converted to a numpy array\n",
    "         using numpy.asarray(x0)).\n",
    "        The initial condition(s) (i.e. position(s)) of the Brownian motion.\n",
    "    n : int\n",
    "        The number of steps to take.\n",
    "    dt : float\n",
    "        The time step.\n",
    "    delta : float\n",
    "        delta determines the \"speed\" of the Brownian motion.  The random variable\n",
    "        of the position at time t, X(t), has a normal distribution whose mean is\n",
    "        the position at time t=0 and whose variance is delta**2*t.\n",
    "    out : numpy array or None\n",
    "        If `out` is not None, it specifies the array in which to put the\n",
    "        result.  If `out` is None, a new numpy array is created and returned.\n",
    "\n",
    "    Returns\n",
    "    -------\n",
    "    A numpy array of floats with shape `x0.shape + (n,)`.\n",
    "    \n",
    "    Note that the initial value `x0` is not included in the returned array.\n",
    "    \"\"\"\n",
    "\n",
    "    x0 = np.asarray(x0)\n",
    "\n",
    "    # For each element of x0, generate a sample of n numbers from a\n",
    "    # normal distribution.\n",
    "    r = norm.rvs(size=x0.shape + (n,), scale=delta*sqrt(dt))\n",
    "\n",
    "    # If `out` was not given, create an output array.\n",
    "    if out is None:\n",
    "        out = np.empty(r.shape)\n",
    "\n",
    "    # This computes the Brownian motion by forming the cumulative sum of\n",
    "    # the random samples. \n",
    "    np.cumsum(r, axis=-1, out=out)\n",
    "\n",
    "    # Add the initial condition.\n",
    "    out += np.expand_dims(x0, axis=-1)\n",
    "\n",
    "    return out\n",
    "\n",
    "\n",
    "\n",
    "def stim_creator():\n",
    "    \n",
    "    T = 400 #4.74       # Total time.\n",
    "    N = 19 #3000        # Number of steps.\n",
    "    dt = T/N           # Time step size\n",
    "    delta = 3.5 #1.18 #np.sqrt(dt)    # The Wiener process parameter.\n",
    "    m = 1       # Number of realizations to generate.\n",
    "    x = np.empty((m,N+1))   # Create an empty array to store the realizations.\n",
    "    x[:, 0] = 150        # Initial values of x.\n",
    "    \n",
    "    global stim_pattern\n",
    "    brownian(x[:,0], N, dt, delta, out=x[:,1:])\n",
    "\n",
    "    stim_pattern = []\n",
    "    for i in range(x.shape[1]):\n",
    "        if x[0][i] > 250:\n",
    "            x[0][i] = 245\n",
    "        if x[0][i] < 50:\n",
    "            x[0][i] = 45 \n",
    "        stim_pattern.append(('stim', [0], x[0][i], 20)) # what to do, neuron id, mV, for how many microseconds, at the end determine hz (how many times protocol is repeated within a second).\n",
    "    \n",
    "    #stim_pattern.append(('delay', 50))\n",
    "    stim_pattern.append(('next', None))\n",
    "    \n",
    "    return stim_pattern\n",
    "    \n",
    "\n",
    "#signal1,t1 = create_stim_pulse_sequence(stim_creator(), freq_Hz= 1) #freq_Hz SHOULD BE 0.25 BUT CANT PUT IN FLOATS! \n",
    "\n"
   ]
  },
  {
   "cell_type": "markdown",
   "id": "80f595eb",
   "metadata": {},
   "source": [
    "## our implementation"
   ]
  },
  {
   "cell_type": "code",
   "execution_count": null,
   "id": "435da10e",
   "metadata": {},
   "outputs": [],
   "source": [
    "stim_hz = 20\n",
    "stim_list = stim_creator()\n",
    "for i in range( 5 * 60 * stim_hz  ):\n",
    "    stim_list.extend( stim_creator() )"
   ]
  },
  {
   "cell_type": "code",
   "execution_count": null,
   "id": "a72ae5c6",
   "metadata": {},
   "outputs": [],
   "source": [
    "#stim_list[126000:]"
   ]
  },
  {
   "cell_type": "code",
   "execution_count": null,
   "id": "7668a191",
   "metadata": {},
   "outputs": [],
   "source": []
  },
  {
   "cell_type": "markdown",
   "id": "f2807343",
   "metadata": {},
   "source": [
    "## Plot pattern"
   ]
  },
  {
   "cell_type": "code",
   "execution_count": 10,
   "id": "e6f6c23f",
   "metadata": {},
   "outputs": [],
   "source": [
    "stim_hz = 20\n",
    "stim_list = stim_creator()\n",
    "stim_list.pop()\n",
    "signal,t = create_stim_pulse_sequence( stim_list, freq_Hz=20 )"
   ]
  },
  {
   "cell_type": "code",
   "execution_count": 11,
   "id": "2bf339d2",
   "metadata": {},
   "outputs": [
    {
     "data": {
      "image/png": "[encoded data removed]",
      "text/plain": [
       "<Figure size 640x480 with 1 Axes>"
      ]
     },
     "metadata": {},
     "output_type": "display_data"
    }
   ],
   "source": [
    "plt.plot(t,signal.T)\n",
    "plt.legend(['n0','n1','n2'])\n",
    "plt.xlabel('seconds')\n",
    "plt.ylabel('Voltage (mv)')\n",
    "plt.title(\"Stim Pattern over 1 Second\")\n",
    "plt.xlim(0,.01)\n",
    "plt.show()"
   ]
  },
  {
   "cell_type": "markdown",
   "id": "e8915997",
   "metadata": {},
   "source": [
    "# Group 3"
   ]
  },
  {
   "cell_type": "code",
   "execution_count": 14,
   "id": "ba2d29b1",
   "metadata": {},
   "outputs": [],
   "source": [
    "stim_list = [('stim', [0, 1], 70, 100), ('delay', 249), ('stim', [0, 1], 70, 100), ('delay', 249), ('stim', [0, 1], 70, 100), ('delay', 249), ('stim', [0, 1], 70, 100), ('delay', 249), ('stim', [0, 1], 70, 100), ('delay', 249), ('stim', [0, 1], 70, 100), ('delay', 249), ('stim', [0, 1], 70, 100), ('delay', 249), ('stim', [0, 1], 70, 100), ('delay', 249), ('stim', [0, 1], 70, 100), ('delay', 249), ('stim', [0, 1], 70, 100), ('delay', 249), ('stim', [0, 1], 70, 100), ('delay', 249), ('stim', [0, 1], 70, 100), ('delay', 249), ('stim', [0, 1], 70, 100), ('delay', 249), ('stim', [0, 1], 70, 100), ('delay', 249), ('stim', [0, 1], 70, 100), ('delay', 249), ('stim', [0, 1], 70, 100), ('delay', 249), ('stim', [0, 1], 70, 100), ('delay', 249), ('stim', [0, 1], 70, 100), ('delay', 249), ('stim', [0, 1], 70, 100), ('delay', 249), ('stim', [0, 1], 70, 100), ('delay', 249), ('stim', [0, 1], 70, 100), ('delay', 249), ('stim', [0, 1], 70, 100), ('delay', 249), ('stim', [0, 1], 70, 100), ('delay', 249), ('stim', [0, 1], 70, 100), ('delay', 249), ('stim', [0, 1], 70, 100), ('delay', 249), ('stim', [0, 1], 70, 100), ('delay', 249), ('stim', [0, 1], 70, 100), ('delay', 249), ('stim', [0, 1], 70, 100), ('delay', 249), ('stim', [0, 1], 70, 100), ('delay', 249), ('stim', [0, 1], 70, 100), ('delay', 249), ('stim', [0, 1], 70, 100), ('delay', 249), ('stim', [0, 1], 70, 100), ('delay', 249), ('stim', [0, 1], 70, 100), ('delay', 249), ('stim', [0, 1], 70, 100), ('delay', 249), ('stim', [0, 1], 70, 100), ('delay', 249), ('stim', [0, 1], 70, 100), ('delay', 249), ('stim', [0, 1], 70, 100), ('delay', 249), ('stim', [0, 1], 70, 100), ('delay', 249), ('stim', [0, 1], 70, 100), ('delay', 249), ('stim', [0, 1], 70, 100), ('delay', 249), ('stim', [0, 1], 70, 100), ('delay', 249), ('stim', [0, 1], 70, 100), ('delay', 249), ('stim', [0, 1], 70, 100), ('delay', 249), ('stim', [0, 1], 70, 100), ('delay', 249), ('stim', [0, 1], 70, 100), ('delay', 249), ('stim', [0, 1], 70, 100), ('delay', 249), ('stim', [0, 1], 70, 100), ('delay', 249), ('stim', [0, 1], 70, 100), ('delay', 249), ('stim', [0, 1], 70, 100), ('delay', 249), ('stim', [0, 1], 70, 100), ('delay', 249), ('stim', [0, 1], 70, 100), ('delay', 249), ('stim', [0, 1], 70, 100), ('delay', 249), ('stim', [0, 1], 70, 100), ('delay', 249), ('stim', [0, 1], 70, 100), ('delay', 249), ('stim', [0, 1], 70, 100), ('delay', 249), ('stim', [0, 1], 70, 100), ('delay', 249), ('stim', [0, 1], 70, 100), ('delay', 249), ('stim', [0, 1], 70, 100), ('delay', 249), ('stim', [0, 1], 70, 100), ('delay', 249), ('stim', [0, 1], 70, 100), ('delay', 249), ('stim', [0, 1], 70, 100), ('delay', 249), ('stim', [0, 1], 70, 100), ('delay', 249), ('stim', [0, 1], 70, 100), ('delay', 249), ('stim', [0, 1], 70, 100), ('delay', 249), ('stim', [0, 1], 70, 100), ('delay', 249), ('stim', [0, 1], 70, 100), ('delay', 249), ('stim', [0, 1], 70, 100), ('delay', 249), ('stim', [0, 1], 70, 100), ('delay', 249), ('stim', [0, 1], 70, 100), ('delay', 249), ('stim', [0, 1], 70, 100), ('delay', 249), ('stim', [0, 1], 70, 100), ('delay', 249), ('stim', [0, 1], 70, 100), ('delay', 249), ('stim', [0, 1], 70, 100), ('delay', 249), ('stim', [0, 1], 70, 100), ('delay', 249), ('stim', [0, 1], 70, 100), ('delay', 249), ('stim', [0, 1], 70, 100), ('delay', 249), ('stim', [0, 1], 70, 100), ('delay', 249), ('stim', [0, 1], 70, 100), ('delay', 249), ('stim', [0, 1], 70, 100), ('delay', 249), ('stim', [0, 1], 70, 100), ('delay', 249), ('stim', [0, 1], 70, 100), ('delay', 249), ('stim', [0, 1], 70, 100), ('delay', 249), ('stim', [0, 1], 70, 100), ('delay', 249), ('stim', [0, 1], 70, 100), ('delay', 249), ('stim', [0, 1], 70, 100), ('delay', 249), ('stim', [0, 1], 70, 100), ('delay', 249), ('stim', [0, 1], 70, 100), ('delay', 249), ('stim', [0, 1], 70, 100), ('delay', 249), ('stim', [0, 1], 70, 100), ('delay', 249), ('stim', [0, 1], 70, 100), ('delay', 249), ('stim', [0, 1], 70, 100), ('delay', 249), ('stim', [0, 1], 70, 100), ('delay', 249), ('stim', [0, 1], 70, 100), ('delay', 249), ('stim', [0, 1], 70, 100), ('delay', 249), ('stim', [0, 1], 70, 100), ('delay', 249), ('stim', [0, 1], 70, 100), ('delay', 249), ('stim', [0, 1], 70, 100), ('delay', 249), ('stim', [0, 1], 70, 100), ('delay', 249), ('stim', [0, 1], 70, 100), ('delay', 249), ('stim', [0, 1], 70, 100), ('delay', 249), ('stim', [0, 1], 70, 100), ('delay', 249), ('stim', [0, 1], 70, 100), ('delay', 249), ('stim', [0, 1], 70, 100), ('delay', 249), ('stim', [0, 1], 70, 100), ('delay', 249), ('stim', [0, 1], 70, 100), ('delay', 249), ('stim', [0, 1], 70, 100), ('delay', 249), ('stim', [0, 1], 70, 100), ('delay', 249), ('stim', [0, 1], 70, 100), ('delay', 249), ('stim', [0, 1], 70, 100), ('delay', 249), ('stim', [0, 1], 70, 100), ('delay', 249), ('stim', [0, 1], 70, 100), ('delay', 249), ('stim', [0, 1], 70, 100), ('delay', 249), ('stim', [0, 1], 70, 100), ('delay', 249), ('stim', [0, 1], 70, 100), ('delay', 249), ('stim', [0, 1], 70, 100), ('delay', 249), ('stim', [0, 1], 70, 100), ('delay', 249), ('stim', [0, 1], 70, 100), ('delay', 249), ('stim', [0, 1], 70, 100), ('delay', 249), ('stim', [0, 1], 70, 100), ('delay', 249), ('stim', [0, 1], 70, 100), ('delay', 249), ('stim', [0, 1], 70, 100), ('delay', 249), ('stim', [0, 1], 70, 100), ('delay', 249), ('stim', [0, 1], 70, 100), ('delay', 249), ('stim', [0, 1], 70, 100), ('delay', 249), ('stim', [0, 1], 70, 100), ('delay', 249), ('stim', [0, 1], 70, 100), ('delay', 249), ('stim', [0, 1], 70, 100), ('delay', 249), ('stim', [0, 1], 70, 100), ('delay', 249), ('stim', [0, 1], 70, 100), ('delay', 249), ('stim', [0, 1], 70, 100), ('delay', 249), ('stim', [0, 1], 70, 100), ('delay', 249), ('stim', [0, 1], 70, 100), ('delay', 249), ('stim', [0, 1], 70, 100), ('delay', 249), ('stim', [0, 1], 70, 100), ('delay', 249), ('stim', [0, 1], 70, 100), ('delay', 249), ('stim', [0, 1], 70, 100), ('delay', 249), ('stim', [0, 1], 70, 100), ('delay', 249), ('stim', [0, 1], 70, 100), ('delay', 249), ('stim', [0, 1], 70, 100), ('delay', 249), ('stim', [0, 1], 70, 100), ('delay', 249), ('stim', [0, 1], 70, 100), ('delay', 249), ('stim', [0, 1], 70, 100), ('delay', 249), ('stim', [0, 1], 70, 100), ('delay', 249), ('stim', [0, 1], 70, 100), ('delay', 249), ('stim', [0, 1], 70, 100), ('delay', 249), ('stim', [0, 1], 70, 100), ('delay', 249), ('stim', [0, 1], 70, 100), ('delay', 249), ('stim', [0, 1], 70, 100), ('delay', 249), ('stim', [0, 1], 70, 100), ('delay', 249), ('stim', [0, 1], 70, 100), ('delay', 249), ('stim', [0, 1], 70, 100), ('delay', 249), ('stim', [0, 1], 70, 100), ('delay', 249), ('stim', [0, 1], 70, 100), ('delay', 249), ('stim', [0, 1], 70, 100), ('delay', 249), ('stim', [0, 1], 70, 100), ('delay', 249), ('stim', [0, 1], 70, 100), ('delay', 249), ('stim', [0, 1], 70, 100), ('delay', 249), ('stim', [0, 1], 70, 100), ('delay', 249), ('stim', [0, 1], 70, 100), ('delay', 249), ('stim', [0, 1], 70, 100), ('delay', 249), ('stim', [0, 1], 70, 100), ('delay', 249), ('stim', [0, 1], 70, 100), ('delay', 249), ('stim', [0, 1], 70, 100), ('delay', 249), ('stim', [0, 1], 70, 100), ('delay', 249), ('stim', [0, 1], 70, 100), ('delay', 249), ('stim', [0, 1], 70, 100), ('delay', 249), ('stim', [0, 1], 70, 100), ('delay', 249), ('stim', [0, 1], 70, 100), ('delay', 249), ('stim', [0, 1], 70, 100), ('delay', 249), ('stim', [0, 1], 70, 100), ('delay', 249), ('stim', [0, 1], 70, 100), ('delay', 249), ('stim', [0, 1], 70, 100), ('delay', 249), ('stim', [0, 1], 70, 100), ('delay', 249), ('stim', [0, 1], 70, 100), ('delay', 249), ('stim', [0, 1], 70, 100), ('delay', 249), ('stim', [0, 1], 70, 100), ('delay', 249), ('stim', [0, 1], 70, 100), ('delay', 249), ('stim', [0, 1], 70, 100), ('delay', 249), ('stim', [0, 1], 70, 100), ('delay', 249), ('stim', [0, 1], 70, 100), ('delay', 249), ('delay', 5000), ('stim', [0, 1], 70, 100), ('delay', 333), ('stim', [0, 1], 70, 100), ('delay', 333), ('stim', [0, 1], 70, 100), ('delay', 333), ('stim', [0, 1], 70, 100), ('delay', 333), ('stim', [0, 1], 70, 100), ('delay', 333), ('stim', [0, 1], 70, 100), ('delay', 333), ('stim', [0, 1], 70, 100), ('delay', 333), ('stim', [0, 1], 70, 100), ('delay', 333), ('stim', [0, 1], 70, 100), ('delay', 333), ('stim', [0, 1], 70, 100), ('delay', 333), ('stim', [0, 1], 70, 100), ('delay', 333), ('stim', [0, 1], 70, 100), ('delay', 333), ('stim', [0, 1], 70, 100), ('delay', 333), ('stim', [0, 1], 70, 100), ('delay', 333), ('stim', [0, 1], 70, 100), ('delay', 333), ('stim', [0, 1], 70, 100), ('delay', 333), ('stim', [0, 1], 70, 100), ('delay', 333), ('stim', [0, 1], 70, 100), ('delay', 333), ('stim', [0, 1], 70, 100), ('delay', 333), ('stim', [0, 1], 70, 100), ('delay', 333), ('stim', [0, 1], 70, 100), ('delay', 333), ('stim', [0, 1], 70, 100), ('delay', 333), ('stim', [0, 1], 70, 100), ('delay', 333), ('stim', [0, 1], 70, 100), ('delay', 333), ('stim', [0, 1], 70, 100), ('delay', 333), ('stim', [0, 1], 70, 100), ('delay', 333), ('stim', [0, 1], 70, 100), ('delay', 333), ('stim', [0, 1], 70, 100), ('delay', 333), ('stim', [0, 1], 70, 100), ('delay', 333), ('stim', [0, 1], 70, 100), ('delay', 333), ('stim', [0, 1], 70, 100), ('delay', 333), ('stim', [0, 1], 70, 100), ('delay', 333), ('stim', [0, 1], 70, 100), ('delay', 333), ('stim', [0, 1], 70, 100), ('delay', 333), ('stim', [0, 1], 70, 100), ('delay', 333), ('stim', [0, 1], 70, 100), ('delay', 333), ('stim', [0, 1], 70, 100), ('delay', 333), ('stim', [0, 1], 70, 100), ('delay', 333), ('stim', [0, 1], 70, 100), ('delay', 333), ('stim', [0, 1], 70, 100), ('delay', 333), ('stim', [0, 1], 70, 100), ('delay', 333), ('stim', [0, 1], 70, 100), ('delay', 333), ('stim', [0, 1], 70, 100), ('delay', 333), ('stim', [0, 1], 70, 100), ('delay', 333), ('stim', [0, 1], 70, 100), ('delay', 333), ('stim', [0, 1], 70, 100), ('delay', 333), ('stim', [0, 1], 70, 100), ('delay', 333), ('stim', [0, 1], 70, 100), ('delay', 333), ('stim', [0, 1], 70, 100), ('delay', 333), ('stim', [0, 1], 70, 100), ('delay', 333), ('stim', [0, 1], 70, 100), ('delay', 333), ('stim', [0, 1], 70, 100), ('delay', 333), ('stim', [0, 1], 70, 100), ('delay', 333), ('stim', [0, 1], 70, 100), ('delay', 333), ('stim', [0, 1], 70, 100), ('delay', 333), ('stim', [0, 1], 70, 100), ('delay', 333), ('stim', [0, 1], 70, 100), ('delay', 333), ('stim', [0, 1], 70, 100), ('delay', 333), ('stim', [0, 1], 70, 100), ('delay', 333), ('stim', [0, 1], 70, 100), ('delay', 333), ('stim', [0, 1], 70, 100), ('delay', 333), ('stim', [0, 1], 70, 100), ('delay', 333), ('stim', [0, 1], 70, 100), ('delay', 333), ('stim', [0, 1], 70, 100), ('delay', 333), ('stim', [0, 1], 70, 100), ('delay', 333), ('stim', [0, 1], 70, 100), ('delay', 333), ('stim', [0, 1], 70, 100), ('delay', 333), ('stim', [0, 1], 70, 100), ('delay', 333), ('stim', [0, 1], 70, 100), ('delay', 333), ('stim', [0, 1], 70, 100), ('delay', 333), ('stim', [0, 1], 70, 100), ('delay', 333), ('stim', [0, 1], 70, 100), ('delay', 333), ('stim', [0, 1], 70, 100), ('delay', 333), ('stim', [0, 1], 70, 100), ('delay', 333), ('stim', [0, 1], 70, 100), ('delay', 333), ('stim', [0, 1], 70, 100), ('delay', 333), ('stim', [0, 1], 70, 100), ('delay', 333), ('stim', [0, 1], 70, 100), ('delay', 333), ('stim', [0, 1], 70, 100), ('delay', 333), ('stim', [0, 1], 70, 100), ('delay', 333), ('stim', [0, 1], 70, 100), ('delay', 333), ('stim', [0, 1], 70, 100), ('delay', 333), ('stim', [0, 1], 70, 100), ('delay', 333), ('stim', [0, 1], 70, 100), ('delay', 333), ('stim', [0, 1], 70, 100), ('delay', 333), ('stim', [0, 1], 70, 100), ('delay', 333), ('stim', [0, 1], 70, 100), ('delay', 333), ('stim', [0, 1], 70, 100), ('delay', 333), ('stim', [0, 1], 70, 100), ('delay', 333), ('stim', [0, 1], 70, 100), ('delay', 333), ('stim', [0, 1], 70, 100), ('delay', 333), ('stim', [0, 1], 70, 100), ('delay', 333), ('stim', [0, 1], 70, 100), ('delay', 333), ('stim', [0, 1], 70, 100), ('delay', 333), ('stim', [0, 1], 70, 100), ('delay', 333), ('stim', [0, 1], 70, 100), ('delay', 333), ('stim', [0, 1], 70, 100), ('delay', 333), ('stim', [0, 1], 70, 100), ('delay', 333), ('stim', [0, 1], 70, 100), ('delay', 333), ('stim', [0, 1], 70, 100), ('delay', 333), ('stim', [0, 1], 70, 100), ('delay', 333), ('stim', [0, 1], 70, 100), ('delay', 333), ('stim', [0, 1], 70, 100), ('delay', 333), ('stim', [0, 1], 70, 100), ('delay', 333), ('stim', [0, 1], 70, 100), ('delay', 333), ('stim', [0, 1], 70, 100), ('delay', 333), ('stim', [0, 1], 70, 100), ('delay', 333), ('stim', [0, 1], 70, 100), ('delay', 333), ('stim', [0, 1], 70, 100), ('delay', 333), ('stim', [0, 1], 70, 100), ('delay', 333), ('stim', [0, 1], 70, 100), ('delay', 333), ('stim', [0, 1], 70, 100), ('delay', 333), ('stim', [0, 1], 70, 100), ('delay', 333), ('stim', [0, 1], 70, 100), ('delay', 333), ('stim', [0, 1], 70, 100), ('delay', 333), ('stim', [0, 1], 70, 100), ('delay', 333), ('stim', [0, 1], 70, 100), ('delay', 333), ('stim', [0, 1], 70, 100), ('delay', 333), ('stim', [0, 1], 70, 100), ('delay', 333), ('stim', [0, 1], 70, 100), ('delay', 333), ('stim', [0, 1], 70, 100), ('delay', 333), ('stim', [0, 1], 70, 100), ('delay', 333), ('stim', [0, 1], 70, 100), ('delay', 333), ('stim', [0, 1], 70, 100), ('delay', 333), ('stim', [0, 1], 70, 100), ('delay', 333), ('stim', [0, 1], 70, 100), ('delay', 333), ('stim', [0, 1], 70, 100), ('delay', 333), ('stim', [0, 1], 70, 100), ('delay', 333), ('stim', [0, 1], 70, 100), ('delay', 333), ('stim', [0, 1], 70, 100), ('delay', 333), ('stim', [0, 1], 70, 100), ('delay', 333), ('stim', [0, 1], 70, 100), ('delay', 333), ('stim', [0, 1], 70, 100), ('delay', 333), ('stim', [0, 1], 70, 100), ('delay', 333), ('stim', [0, 1], 70, 100), ('delay', 333), ('delay', 5000), ('stim', [0, 1], 70, 100), ('delay', 499), ('stim', [0, 1], 70, 100), ('delay', 499), ('stim', [0, 1], 70, 100), ('delay', 499), ('stim', [0, 1], 70, 100), ('delay', 499), ('stim', [0, 1], 70, 100), ('delay', 499), ('stim', [0, 1], 70, 100), ('delay', 499), ('stim', [0, 1], 70, 100), ('delay', 499), ('stim', [0, 1], 70, 100), ('delay', 499), ('stim', [0, 1], 70, 100), ('delay', 499), ('stim', [0, 1], 70, 100), ('delay', 499), ('stim', [0, 1], 70, 100), ('delay', 499), ('stim', [0, 1], 70, 100), ('delay', 499), ('stim', [0, 1], 70, 100), ('delay', 499), ('stim', [0, 1], 70, 100), ('delay', 499), ('stim', [0, 1], 70, 100), ('delay', 499), ('stim', [0, 1], 70, 100), ('delay', 499), ('stim', [0, 1], 70, 100), ('delay', 499), ('stim', [0, 1], 70, 100), ('delay', 499), ('stim', [0, 1], 70, 100), ('delay', 499), ('stim', [0, 1], 70, 100), ('delay', 499), ('stim', [0, 1], 70, 100), ('delay', 499), ('stim', [0, 1], 70, 100), ('delay', 499), ('stim', [0, 1], 70, 100), ('delay', 499), ('stim', [0, 1], 70, 100), ('delay', 499), ('stim', [0, 1], 70, 100), ('delay', 499), ('stim', [0, 1], 70, 100), ('delay', 499), ('stim', [0, 1], 70, 100), ('delay', 499), ('stim', [0, 1], 70, 100), ('delay', 499), ('stim', [0, 1], 70, 100), ('delay', 499), ('stim', [0, 1], 70, 100), ('delay', 499), ('stim', [0, 1], 70, 100), ('delay', 499), ('stim', [0, 1], 70, 100), ('delay', 499), ('stim', [0, 1], 70, 100), ('delay', 499), ('stim', [0, 1], 70, 100), ('delay', 499), ('stim', [0, 1], 70, 100), ('delay', 499), ('stim', [0, 1], 70, 100), ('delay', 499), ('stim', [0, 1], 70, 100), ('delay', 499), ('stim', [0, 1], 70, 100), ('delay', 499), ('stim', [0, 1], 70, 100), ('delay', 499), ('stim', [0, 1], 70, 100), ('delay', 499), ('stim', [0, 1], 70, 100), ('delay', 499), ('stim', [0, 1], 70, 100), ('delay', 499), ('stim', [0, 1], 70, 100), ('delay', 499), ('stim', [0, 1], 70, 100), ('delay', 499), ('stim', [0, 1], 70, 100), ('delay', 499), ('stim', [0, 1], 70, 100), ('delay', 499), ('stim', [0, 1], 70, 100), ('delay', 499), ('stim', [0, 1], 70, 100), ('delay', 499), ('stim', [0, 1], 70, 100), ('delay', 499), ('stim', [0, 1], 70, 100), ('delay', 499), ('stim', [0, 1], 70, 100), ('delay', 499), ('stim', [0, 1], 70, 100), ('delay', 499), ('stim', [0, 1], 70, 100), ('delay', 499), ('stim', [0, 1], 70, 100), ('delay', 499), ('stim', [0, 1], 70, 100), ('delay', 499), ('stim', [0, 1], 70, 100), ('delay', 499), ('stim', [0, 1], 70, 100), ('delay', 499), ('stim', [0, 1], 70, 100), ('delay', 499), ('stim', [0, 1], 70, 100), ('delay', 499), ('stim', [0, 1], 70, 100), ('delay', 499), ('stim', [0, 1], 70, 100), ('delay', 499), ('stim', [0, 1], 70, 100), ('delay', 499), ('stim', [0, 1], 70, 100), ('delay', 499), ('stim', [0, 1], 70, 100), ('delay', 499), ('stim', [0, 1], 70, 100), ('delay', 499), ('stim', [0, 1], 70, 100), ('delay', 499), ('stim', [0, 1], 70, 100), ('delay', 499), ('stim', [0, 1], 70, 100), ('delay', 499), ('stim', [0, 1], 70, 100), ('delay', 499), ('stim', [0, 1], 70, 100), ('delay', 499), ('stim', [0, 1], 70, 100), ('delay', 499), ('stim', [0, 1], 70, 100), ('delay', 499), ('stim', [0, 1], 70, 100), ('delay', 499), ('stim', [0, 1], 70, 100), ('delay', 499), ('stim', [0, 1], 70, 100), ('delay', 499), ('stim', [0, 1], 70, 100), ('delay', 499), ('stim', [0, 1], 70, 100), ('delay', 499), ('stim', [0, 1], 70, 100), ('delay', 499), ('stim', [0, 1], 70, 100), ('delay', 499), ('stim', [0, 1], 70, 100), ('delay', 499), ('stim', [0, 1], 70, 100), ('delay', 499), ('stim', [0, 1], 70, 100), ('delay', 499), ('stim', [0, 1], 70, 100), ('delay', 499), ('stim', [0, 1], 70, 100), ('delay', 499), ('stim', [0, 1], 70, 100), ('delay', 499), ('stim', [0, 1], 70, 100), ('delay', 499), ('stim', [0, 1], 70, 100), ('delay', 499), ('stim', [0, 1], 70, 100), ('delay', 499), ('stim', [0, 1], 70, 100), ('delay', 499), ('stim', [0, 1], 70, 100), ('delay', 499), ('delay', 5000), ('stim', [0, 1], 70, 100), ('delay', 999), ('stim', [0, 1], 70, 100), ('delay', 999), ('stim', [0, 1], 70, 100), ('delay', 999), ('stim', [0, 1], 70, 100), ('delay', 999), ('stim', [0, 1], 70, 100), ('delay', 999), ('stim', [0, 1], 70, 100), ('delay', 999), ('stim', [0, 1], 70, 100), ('delay', 999), ('stim', [0, 1], 70, 100), ('delay', 999), ('stim', [0, 1], 70, 100), ('delay', 999), ('stim', [0, 1], 70, 100), ('delay', 999), ('stim', [0, 1], 70, 100), ('delay', 999), ('stim', [0, 1], 70, 100), ('delay', 999), ('stim', [0, 1], 70, 100), ('delay', 999), ('stim', [0, 1], 70, 100), ('delay', 999), ('stim', [0, 1], 70, 100), ('delay', 999), ('stim', [0, 1], 70, 100), ('delay', 999), ('stim', [0, 1], 70, 100), ('delay', 999), ('stim', [0, 1], 70, 100), ('delay', 999), ('stim', [0, 1], 70, 100), ('delay', 999), ('stim', [0, 1], 70, 100), ('delay', 999), ('stim', [0, 1], 70, 100), ('delay', 999), ('stim', [0, 1], 70, 100), ('delay', 999), ('stim', [0, 1], 70, 100), ('delay', 999), ('stim', [0, 1], 70, 100), ('delay', 999), ('stim', [0, 1], 70, 100), ('delay', 999), ('stim', [0, 1], 70, 100), ('delay', 999), ('stim', [0, 1], 70, 100), ('delay', 999), ('stim', [0, 1], 70, 100), ('delay', 999), ('stim', [0, 1], 70, 100), ('delay', 999), ('stim', [0, 1], 70, 100), ('delay', 999), ('stim', [0, 1], 70, 100), ('delay', 999), ('stim', [0, 1], 70, 100), ('delay', 999), ('stim', [0, 1], 70, 100), ('delay', 999), ('stim', [0, 1], 70, 100), ('delay', 999), ('stim', [0, 1], 70, 100), ('delay', 999), ('stim', [0, 1], 70, 100), ('delay', 999), ('stim', [0, 1], 70, 100), ('delay', 999), ('stim', [0, 1], 70, 100), ('delay', 999), ('stim', [0, 1], 70, 100), ('delay', 999), ('stim', [0, 1], 70, 100), ('delay', 999), ('stim', [0, 1], 70, 100), ('delay', 999), ('stim', [0, 1], 70, 100), ('delay', 999), ('stim', [0, 1], 70, 100), ('delay', 999), ('stim', [0, 1], 70, 100), ('delay', 999), ('stim', [0, 1], 70, 100), ('delay', 999), ('delay', 5000), ('delay', 5000), ('next', None)]\n"
   ]
  },
  {
   "cell_type": "code",
   "execution_count": 15,
   "id": "001b1f35",
   "metadata": {},
   "outputs": [
    {
     "data": {
      "text/plain": [
       "('next', None)"
      ]
     },
     "execution_count": 15,
     "metadata": {},
     "output_type": "execute_result"
    }
   ],
   "source": [
    "stim_list.pop()"
   ]
  },
  {
   "cell_type": "code",
   "execution_count": null,
   "id": "22ca6ce1",
   "metadata": {},
   "outputs": [],
   "source": [
    "signal,t = create_stim_pulse_sequence( stim_list, freq_Hz=20 )"
   ]
  },
  {
   "cell_type": "code",
   "execution_count": null,
   "id": "b791c1ef",
   "metadata": {},
   "outputs": [],
   "source": []
  },
  {
   "cell_type": "code",
   "execution_count": null,
   "id": "949ab533",
   "metadata": {},
   "outputs": [],
   "source": []
  }
 ],
 "metadata": {
  "hide_input": false,
  "kernelspec": {
   "display_name": "Python 3 (ipykernel)",
   "language": "python",
   "name": "python3"
  },
  "language_info": {
   "codemirror_mode": {
    "name": "ipython",
    "version": 3
   },
   "file_extension": ".py",
   "mimetype": "text/x-python",
   "name": "python",
   "nbconvert_exporter": "python",
   "pygments_lexer": "ipython3",
   "version": "3.10.10"
  },
  "toc": {
   "base_numbering": 1,
   "nav_menu": {},
   "number_sections": true,
   "sideBar": true,
   "skip_h1_title": false,
   "title_cell": "Table of Contents",
   "title_sidebar": "Contents",
   "toc_cell": false,
   "toc_position": {},
   "toc_section_display": true,
   "toc_window_display": false
  },
  "varInspector": {
   "cols": {
    "lenName": 16,
    "lenType": 16,
    "lenVar": 40
   },
   "kernels_config": {
    "python": {
     "delete_cmd_postfix": "",
     "delete_cmd_prefix": "del ",
     "library": "var_list.py",
     "varRefreshCmd": "print(var_dic_list())"
    },
    "r": {
     "delete_cmd_postfix": ") ",
     "delete_cmd_prefix": "rm(",
     "library": "var_list.r",
     "varRefreshCmd": "cat(var_dic_list()) "
    }
   },
   "types_to_exclude": [
    "module",
    "function",
    "builtin_function_or_method",
    "instance",
    "_Feature"
   ],
   "window_display": false
  }
 },
 "nbformat": 4,
 "nbformat_minor": 5
}
