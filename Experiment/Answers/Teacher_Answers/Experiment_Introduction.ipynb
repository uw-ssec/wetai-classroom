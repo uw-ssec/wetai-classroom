{
 "cells": [
  {
   "cell_type": "markdown",
   "id": "4d028803",
   "metadata": {},
   "source": [
    "<font size=7><b>Introduction to Organoid Experiments"
   ]
  },
  {
   "cell_type": "markdown",
   "id": "0da041a8",
   "metadata": {},
   "source": [
    "For this class, your group will be running a stimulation experiment on a connectoid. This notebook explains what a connectoid is and shows some basic analysis that can be done on them. It then explains how to construct a stimulation experiment. Then, in the exercises, your group will construct an experiment. The experiment you create will then be run on living human brain tissue! After the experiment is over, your final project will be to analyze the results of your experiment. The data that you'll receive back to analyze will be in the same format as the dataset used in this notebook. Thus, if you want to get a head start on analysis, you can use the provided data as a starting point."
   ]
  },
  {
   "cell_type": "markdown",
   "id": "c6f59d52",
   "metadata": {},
   "source": [
    "<font color=\"red\"><b>Note:</b> This HW is **due Tuesday (May 16), at 11:59pm**. This is a group assignment. Have only **1 team member** submit the assignment. Think very carefully about what you propose as your experiment. Be conservative on what you try to attempt. Once you submit, there's no going back!"
   ]
  },
  {
   "cell_type": "code",
   "execution_count": 5,
   "id": "52762168",
   "metadata": {},
   "outputs": [
    {
     "name": "stdout",
     "output_type": "stream",
     "text": [
      "Loading ./data/ephys/2022-04-28-e-/derived/kilosort2/Trace_20220428_15_52_47_chip11350_curated.zip\n"
     ]
    }
   ],
   "source": [
    "%run \"Experiment_Source_Code.ipynb\""
   ]
  },
  {
   "cell_type": "markdown",
   "id": "55167b82",
   "metadata": {},
   "source": [
    "# Reading Material "
   ]
  },
  {
   "cell_type": "markdown",
   "id": "7d9d9d94",
   "metadata": {},
   "source": [
    "You will be required to devise your own experiment for this HW assignment. We highly reccomend that you read through some of the suggested papers below for inspiration and guidance. Many of these papers are from Potter's lab. He was an early pioneer in MEA stimulation. The \"Neurons playing pong\" paper is a fun read, albeit whimsical."
   ]
  },
  {
   "cell_type": "markdown",
   "id": "ca073b98",
   "metadata": {
    "cell_style": "split"
   },
   "source": [
    "**Experiment Reference Papers**\n",
    "* [Stimulation Reference](reading_material/Stimulation_Reference.pdf)\n",
    "* [Searching for Neural Plasticity](reading_material/Searching_for_Plasticity.pdf)\n",
    "* [Maxwell Device Specs](reading_material/Maxwell_MaxOne_Specs.pdf)\n",
    "* [Tetanus Induces Network Depression](reading_material/Tetanus_Induced_Depression.pdf)\n",
    "* [Stimulation Avoidance Plasticity](reading_material/Stimulation_Avoidance_Plasticity.pdf)\n",
    "* [Closed Loop Control of Neural Bursting](reading_material/Tal_Neural_Circuitry.pdf) \n",
    "* [Stim Artifact Supression](reading_material/Artifact_Supression.pdf)\n",
    "* [Neurons Play Pong](reading_material/neuronal_pong.pdf)\n",
    "* [Connectoid Summary](reading_material/Assembloid_Summary.pdf)\n"
   ]
  },
  {
   "cell_type": "markdown",
   "id": "b6c91dbf",
   "metadata": {
    "cell_style": "split"
   },
   "source": [
    "**Other Reading Material**\n",
    "* [cerebral organoid wiki](https://en.wikipedia.org/wiki/Cerebral_organoid#:~:text=A%20cerebral%20organoid%2C%20or%20brain,over%20a%20course%20of%20months.) - a basic summary\n",
    "* [Maxwell Website](https://www.mxwbio.com/technology/?gclid=Cj0KCQjwr82iBhCuARIsAO0EAZw9HkpNG65Ot-iM4ZKitSkEYj4utIb3EXS6lGWZbp6G9ABrDn2UChEaAsy8EALw_wcB)- info about MEA we use\n",
    "* [Maxwell Organoid Brochure](reading_material/Maxwell_Organoids.pdf)- summary of organoids on MaxOne\n",
    "* [Spikesorting Wiki](https://en.wikipedia.org/wiki/Spike_sorting) - contains great video\n",
    "* [Spikesorting Scholarpedia](http://www.scholarpedia.org/article/Spike_sorting) - More in depth\n",
    "* [Spike Train Analysis](http://www.scholarpedia.org/article/Measures_of_spike_train_synchrony)- great for learning new methods\n",
    "* [Neural Circuitry Paper](reading_material/Tal_Neural_Circuitry.pdf)- thorough neural latency analysis\n",
    "* [Action Potential Wiki](https://en.wikipedia.org/wiki/Action_potential)- how a neuron fires"
   ]
  },
  {
   "cell_type": "markdown",
   "id": "49a5fd96",
   "metadata": {
    "heading_collapsed": true
   },
   "source": [
    "# Connectoids"
   ]
  },
  {
   "cell_type": "markdown",
   "id": "da1fe77c",
   "metadata": {
    "hidden": true
   },
   "source": [
    "You will be running your experiment on a new type of brain tissue currently being developed in the Haussler lab. This tissue is call a **connectoid**. It is created by growing two [cerebral organoids](https://en.wikipedia.org/wiki/Cerebral_organoid#:~:text=A%20cerebral%20organoid%2C%20or%20brain,over%20a%20course%20of%20months.) close to each other. The two organoids will then, miraculously, grow projections of neural tissue toward eachother. When the projections from the two organoids connect, a connectoid is born. We believe that connectoids express more complex and interesting communication patterns than what is seen in traditional organoids.\n",
    "\n",
    "This technology is the cutting edge of science, so there are very few papers to read on it. The [Pasca assembloid summary](http://54.183.203.115:8888/files/work/Experiment/reading_material/Assembloid_Summary.pdf) is a good paper about similar types of neural cultures ([original paper link](https://www.nature.com/articles/nature25032))."
   ]
  },
  {
   "cell_type": "markdown",
   "id": "d53c0d3b",
   "metadata": {
    "cell_style": "split",
    "hidden": true
   },
   "source": [
    "![alt text](data/connectoid.png \"Title\")"
   ]
  },
  {
   "cell_type": "markdown",
   "id": "8f50ec1f",
   "metadata": {
    "heading_collapsed": true,
    "hidden": true
   },
   "source": [
    "## Multi Electrode Arrays"
   ]
  },
  {
   "cell_type": "markdown",
   "id": "a85db7c4",
   "metadata": {
    "hidden": true
   },
   "source": [
    "In the reading from the previous homework you learned about a new technology called a high density CMOS multi-electrode array, which uses thousands of microscopic electrodes to record neural activity from tissue. Specifically, Prof. Tal Sharf used the, [Maxwell Biosystems, Maxone MEA](https://www.mxwbio.com/technology/?gclid=Cj0KCQjwr82iBhCuARIsAO0EAZw9HkpNG65Ot-iM4ZKitSkEYj4utIb3EXS6lGWZbp6G9ABrDn2UChEaAsy8EALw_wcB) to perform his Diazepam experiment. [Maxwell has a brochure](http://54.183.203.115:8888/files/work/Experiment/reading_material/Maxwell_Organoids.pdf) summarizing organoid experiments on the MaxOne.\n",
    "\n",
    "For our expirement, there is a small rectangular surface on the MaxOne where we place the connectoid. This surface contains over 20,0000 electrodes. From this, we can select about 1,000 electrodes to record from for the experiment. The electrophysiologist running the experiment carefully selects which electrodes the want to record from. Specifically, they want to choose electrodes that are touching the neural tissue, so that they can record as much neural activity as possible. Below is the electrode layout used in a connectoid experiment. Notice that there are two big clumps of electrodes. The clumps are where the bodies of the two organoids are located."
   ]
  },
  {
   "cell_type": "code",
   "execution_count": 17,
   "id": "b4537bdb",
   "metadata": {
    "cell_style": "split",
    "hidden": true
   },
   "outputs": [
    {
     "data": {
      "image/png": "[encoded data removed]",
      "text/plain": [
       "<Figure size 640x480 with 1 Axes>"
      ]
     },
     "metadata": {},
     "output_type": "display_data"
    }
   ],
   "source": [
    "electrodeLayout()"
   ]
  },
  {
   "cell_type": "code",
   "execution_count": 18,
   "id": "94f39c88",
   "metadata": {
    "cell_style": "split",
    "hidden": true
   },
   "outputs": [
    {
     "data": {
      "text/html": [
       "<div>\n",
       "<style scoped>\n",
       "    .dataframe tbody tr th:only-of-type {\n",
       "        vertical-align: middle;\n",
       "    }\n",
       "\n",
       "    .dataframe tbody tr th {\n",
       "        vertical-align: top;\n",
       "    }\n",
       "\n",
       "    .dataframe thead th {\n",
       "        text-align: right;\n",
       "    }\n",
       "</style>\n",
       "<table border=\"1\" class=\"dataframe\">\n",
       "  <thead>\n",
       "    <tr style=\"text-align: right;\">\n",
       "      <th></th>\n",
       "      <th>channel</th>\n",
       "      <th>electrode</th>\n",
       "      <th>x</th>\n",
       "      <th>y</th>\n",
       "    </tr>\n",
       "  </thead>\n",
       "  <tbody>\n",
       "    <tr>\n",
       "      <th>0</th>\n",
       "      <td>0</td>\n",
       "      <td>15876</td>\n",
       "      <td>630.0</td>\n",
       "      <td>1260.0</td>\n",
       "    </tr>\n",
       "    <tr>\n",
       "      <th>1</th>\n",
       "      <td>1</td>\n",
       "      <td>18876</td>\n",
       "      <td>3080.0</td>\n",
       "      <td>1487.5</td>\n",
       "    </tr>\n",
       "    <tr>\n",
       "      <th>2</th>\n",
       "      <td>2</td>\n",
       "      <td>15900</td>\n",
       "      <td>1050.0</td>\n",
       "      <td>1260.0</td>\n",
       "    </tr>\n",
       "    <tr>\n",
       "      <th>3</th>\n",
       "      <td>3</td>\n",
       "      <td>17567</td>\n",
       "      <td>3272.5</td>\n",
       "      <td>1382.5</td>\n",
       "    </tr>\n",
       "    <tr>\n",
       "      <th>4</th>\n",
       "      <td>4</td>\n",
       "      <td>15235</td>\n",
       "      <td>962.5</td>\n",
       "      <td>1207.5</td>\n",
       "    </tr>\n",
       "    <tr>\n",
       "      <th>...</th>\n",
       "      <td>...</td>\n",
       "      <td>...</td>\n",
       "      <td>...</td>\n",
       "      <td>...</td>\n",
       "    </tr>\n",
       "    <tr>\n",
       "      <th>929</th>\n",
       "      <td>1019</td>\n",
       "      <td>17083</td>\n",
       "      <td>2502.5</td>\n",
       "      <td>1347.5</td>\n",
       "    </tr>\n",
       "    <tr>\n",
       "      <th>930</th>\n",
       "      <td>1020</td>\n",
       "      <td>18339</td>\n",
       "      <td>1382.5</td>\n",
       "      <td>1452.5</td>\n",
       "    </tr>\n",
       "    <tr>\n",
       "      <th>931</th>\n",
       "      <td>1021</td>\n",
       "      <td>18875</td>\n",
       "      <td>3062.5</td>\n",
       "      <td>1487.5</td>\n",
       "    </tr>\n",
       "    <tr>\n",
       "      <th>932</th>\n",
       "      <td>1022</td>\n",
       "      <td>19686</td>\n",
       "      <td>1855.0</td>\n",
       "      <td>1557.5</td>\n",
       "    </tr>\n",
       "    <tr>\n",
       "      <th>933</th>\n",
       "      <td>1023</td>\n",
       "      <td>19313</td>\n",
       "      <td>3027.5</td>\n",
       "      <td>1522.5</td>\n",
       "    </tr>\n",
       "  </tbody>\n",
       "</table>\n",
       "<p>934 rows × 4 columns</p>\n",
       "</div>"
      ],
      "text/plain": [
       "     channel  electrode       x       y\n",
       "0          0      15876   630.0  1260.0\n",
       "1          1      18876  3080.0  1487.5\n",
       "2          2      15900  1050.0  1260.0\n",
       "3          3      17567  3272.5  1382.5\n",
       "4          4      15235   962.5  1207.5\n",
       "..       ...        ...     ...     ...\n",
       "929     1019      17083  2502.5  1347.5\n",
       "930     1020      18339  1382.5  1452.5\n",
       "931     1021      18875  3062.5  1487.5\n",
       "932     1022      19686  1855.0  1557.5\n",
       "933     1023      19313  3027.5  1522.5\n",
       "\n",
       "[934 rows x 4 columns]"
      ]
     },
     "execution_count": 18,
     "metadata": {},
     "output_type": "execute_result"
    }
   ],
   "source": [
    "electrode_mapping"
   ]
  },
  {
   "cell_type": "markdown",
   "id": "50824032",
   "metadata": {
    "heading_collapsed": true,
    "hidden": true
   },
   "source": [
    "## Neural Units "
   ]
  },
  {
   "cell_type": "markdown",
   "id": "1405325a",
   "metadata": {
    "hidden": true
   },
   "source": [
    "In the previous homework you were provided a Spike Raster, a matrix which tells you at what moment each neuron fires. How do we go from talking about raw signals recorded from 1,000 electrodes, to the spiking times of some 100 neurons? The complicated question is an active area of research in neuroscience called [spike sorting](http://www.scholarpedia.org/article/Spike_sorting). There is a [great video](https://en.wikipedia.org/wiki/Spike_sorting) on wikipedia about spikesorting. Spikesorting doesn't yet produce perfect results, so scientists still have to manually curate results. Curating spikesorted results was one of the exercises you did in the last homework. We don't actually know if the results from spikesorting are truly individual neurons (it's unlikely they are). For this reason, the outputted \"neurons\" from spikesorting are usually called *putative neurons* or *neural units*."
   ]
  },
  {
   "cell_type": "markdown",
   "id": "6d5a9c7d",
   "metadata": {
    "hidden": true
   },
   "source": [
    "Below we see the same electrode layout as before, but this time there are red dots on it. These red dots are the places where a spikesorting algorithm believes neurons are located. Notice that there are two big clumps of neurons, one for each organoid."
   ]
  },
  {
   "cell_type": "code",
   "execution_count": 19,
   "id": "ea4f4806",
   "metadata": {
    "cell_style": "split",
    "hidden": true
   },
   "outputs": [
    {
     "data": {
      "image/png": "[encoded data removed]",
      "text/plain": [
       "<Figure size 640x480 with 1 Axes>"
      ]
     },
     "metadata": {},
     "output_type": "display_data"
    }
   ],
   "source": [
    "neuronLayout()"
   ]
  },
  {
   "cell_type": "markdown",
   "id": "7066e04d",
   "metadata": {
    "cell_style": "split",
    "hidden": true
   },
   "source": [
    "<p>&nbsp</p>\n",
    "\n",
    "<center><b>Spike Sorting Diagram</b></center>\n",
    "\n",
    "![alt text](http://www.scholarpedia.org/w/images/thumb/a/a6/QQ_Fig1.jpg/400px-QQ_Fig1.jpg \"Title\") "
   ]
  },
  {
   "cell_type": "markdown",
   "id": "7e718a50",
   "metadata": {
    "heading_collapsed": true
   },
   "source": [
    "# Dynamics "
   ]
  },
  {
   "cell_type": "markdown",
   "id": "5726a4d1",
   "metadata": {
    "hidden": true
   },
   "source": [
    "Now that we know what a connectoid is, and what it looks like on an MEA, let's briefly consider how one might analyse its neural dynamics. Please note, below we are providing only the most rudimentary analysis techniques. A considerable portion of your final project will be to construct your own analysis approach on the resulting data from your experiment. Think deeply about what your analysis will be, and practice ideas on the example dataset provided in this notebook."
   ]
  },
  {
   "cell_type": "markdown",
   "id": "a7b2c030",
   "metadata": {
    "heading_collapsed": true,
    "hidden": true
   },
   "source": [
    "## STTC "
   ]
  },
  {
   "cell_type": "markdown",
   "id": "ab40e924",
   "metadata": {
    "hidden": true
   },
   "source": [
    "In the last HW we learned how the Spike Time Tiling Coefficient (STTC) is a measure that is similar to correlation, except with values from [0,1] instead of [-1,1]. It tells us the degree to which two neurons fire together. How could we use the STTC to check the degree to which the two organoids in our connectoid are communicating between each other and within themselves?"
   ]
  },
  {
   "cell_type": "markdown",
   "id": "bef4725f",
   "metadata": {
    "hidden": true
   },
   "source": [
    "Below is a simple interactive graphic that considers this question. In the left graph, a line is drawn between all pairs of neural units whose STTC is above some threshold. The right graph is almost the standard STTC matrix, but it displays only STTC values that are above the threshold. Notice that as you increase threshold that the STTC must be above, the number of lines disapear from the graph. Notice also that the lines between the the two organoids disappear first (threshold$\\approx$0.5), and then, later, disappear between neurons within the same organoid (threshold$\\approx$0.8). This makes logical sense. We expect there to be stronger communication between neurons that are close to eachother, inside the same organoid. Neurons that are in two different organoids most likely have weaker communication between eachother."
   ]
  },
  {
   "cell_type": "markdown",
   "id": "6d0ab903",
   "metadata": {
    "hidden": true
   },
   "source": [
    "$$\n",
    "\\textbf{IF:}\\:\\text{STTC}_{i,j}>\\text{threshold},\\quad\\textbf{THEN:}\\:\\text{DrawLine}_{i,j} \\quad \\forall i,j\\in\\{\\text{selected neurons}\\}\n",
    "$$"
   ]
  },
  {
   "cell_type": "code",
   "execution_count": 20,
   "id": "2d8acbb0",
   "metadata": {
    "hidden": true
   },
   "outputs": [
    {
     "data": {
      "application/vnd.jupyter.widget-view+json": {
       "model_id": "a95c606692af4e2fb706d6aab4a6e939",
       "version_major": 2,
       "version_minor": 0
      },
      "text/plain": [
       "interactive(children=(FloatSlider(value=0.0, description='threshold', max=1.0), Button(description='Run Intera…"
      ]
     },
     "metadata": {},
     "output_type": "display_data"
    },
    {
     "data": {
      "text/plain": [
       "<function __main__.sttcLayout(threshold)>"
      ]
     },
     "execution_count": 20,
     "metadata": {},
     "output_type": "execute_result"
    }
   ],
   "source": [
    "interact_manual( sttcLayout, threshold=(0,1,.1) )\n"
   ]
  },
  {
   "cell_type": "markdown",
   "id": "f6653fad",
   "metadata": {
    "heading_collapsed": true,
    "hidden": true
   },
   "source": [
    "## Latencies"
   ]
  },
  {
   "cell_type": "markdown",
   "id": "d24f7d53",
   "metadata": {
    "hidden": true
   },
   "source": [
    "Using the STTC we learned a way to measure the degree to which to neurons fire together. But is there actually any degree of communication between the neurons? On way to parse out this question is to see if one neuron consistently fires before the other. This is done by using a measurement called **spike time latency**, or latencies for short. "
   ]
  },
  {
   "cell_type": "markdown",
   "id": "95a0e812",
   "metadata": {
    "hidden": true
   },
   "source": [
    "Suppose we want to calculate the latency between some spike on a neuron ($n_1$) compared to another neuron ($n_2$). The latency is calculated by measuring the duration of time in between the spike of $n_1$ and the closest occuring spike from $n_2$. If the $n_1$ spike occures before the $n_2$ spike this distance is positive, otherwise, the distance is negative. Doing this for all the spikes of $n_1$ we can create a histogram of the latencies between two neurons. if the histogram has mostly positive values, or mostly negative values, then we have a general notion of the direction of \"information flow\"."
   ]
  },
  {
   "cell_type": "markdown",
   "id": "4552cbf4",
   "metadata": {
    "hidden": true
   },
   "source": [
    "The interactive graphic below plots a histogram of the latencies between any two neural units. Try running the widget with $n_1=69$ and $n_2=38$. Notice that these two neurons that are located close to eachother have latencies that are screwed negatively. Now make $n_1=38$ and $n_2=69$. Notice that the latencies are now scewed positively."
   ]
  },
  {
   "cell_type": "code",
   "execution_count": 21,
   "id": "5b3608c2",
   "metadata": {
    "hidden": true
   },
   "outputs": [
    {
     "data": {
      "application/vnd.jupyter.widget-view+json": {
       "model_id": "f10ac18162824693a0f994e4815676b3",
       "version_major": 2,
       "version_minor": 0
      },
      "text/plain": [
       "interactive(children=(IntSlider(value=50, description='neuron1'), IntSlider(value=50, description='neuron2'), …"
      ]
     },
     "metadata": {},
     "output_type": "display_data"
    },
    {
     "data": {
      "text/plain": [
       "<function __main__.latencyPlots(neuron1, neuron2)>"
      ]
     },
     "execution_count": 21,
     "metadata": {},
     "output_type": "execute_result"
    }
   ],
   "source": [
    "interact_manual( latencyPlots,  neuron1=(0,100), neuron2=(0,100) )"
   ]
  },
  {
   "cell_type": "markdown",
   "id": "a18e54fe",
   "metadata": {},
   "source": [
    "# Neural Stimulation"
   ]
  },
  {
   "cell_type": "markdown",
   "id": "c5b9d5be",
   "metadata": {},
   "source": [
    "For your experiment, you will be sending electrical signals to neurons that are in the connectoid. When the neurons receive these electrical signals it causes them to fire. That is why this process is called **Neural Stimulation**. Making neurons fire over and over again at specific times can permanently change the firing patter of the neuron. This process is called **Neural Plasticity**."
   ]
  },
  {
   "cell_type": "markdown",
   "id": "5d5b4dee",
   "metadata": {},
   "source": [
    "## What is a Stimulation Pulse?"
   ]
  },
  {
   "cell_type": "markdown",
   "id": "0361c8f5",
   "metadata": {},
   "source": [
    "A stimulation pulse occures when we use one of the electrodes on the MEA to change the voltage for a short period of time. This change in voltage only affects neurons in the immediate vicinity of the voltage change. Below is a plot of the most common type of stimulation pulse we use for experiments. This type of pulse is called a **square wave**. We raise the voltage 150mv and then lower it by 150mv, before bringing the voltage back to the resting state. In total, this pulse take 200$\\mu$s from start to finish. Note that $\\mu$s means microseconds, where there are 1000 microseconds in a millisecond. Notice that this pulse resembles the change in mV seen when a  [neuron spikes](https://en.wikipedia.org/wiki/Action_potential)."
   ]
  },
  {
   "cell_type": "code",
   "execution_count": 22,
   "id": "034a4d45",
   "metadata": {},
   "outputs": [
    {
     "data": {
      "image/png": "[encoded data removed]",
      "text/plain": [
       "<Figure size 640x480 with 1 Axes>"
      ]
     },
     "metadata": {},
     "output_type": "display_data"
    }
   ],
   "source": [
    "plotPulse()"
   ]
  },
  {
   "cell_type": "markdown",
   "id": "272e780e",
   "metadata": {},
   "source": [
    "## Experiment Setup"
   ]
  },
  {
   "cell_type": "markdown",
   "id": "0c329dda",
   "metadata": {},
   "source": [
    "For your experiment, you will be allowed to stimulate neural tissue for a grand total of **5 minutes**. In this experiment you will have the oppertunity to choose **3 different neural units** to stimulate according to your protocol, however, you do not have to stimulate all of them. You can choose the general location of the neural units across **2** organoids of a connectoid. For example you could say *\"choose 2 electrodes in close proximity on organoid A, and 1 electrode on organoid B\"*.\n",
    "\n",
    "Once the experiment has been completed you will receive **3 files** that are in the same format as the connectoid dataset in this notebook. There will be a 5 minute **pre-stimulation** dataset, a 5 minute **stimulation** dataset and a 15 minute **post-stimulation** dataset. These are the datasets that you will analyze for you final project."
   ]
  },
  {
   "cell_type": "markdown",
   "id": "1d6fa6c6",
   "metadata": {},
   "source": [
    "## Create a Stim Pattern "
   ]
  },
  {
   "cell_type": "markdown",
   "id": "3887c8a6",
   "metadata": {},
   "source": [
    "You will be required to write code that programmatically dictates your stim protocol. Through code, you will define a simple stimulation sequence, then you will specify how often this stimulation sequence occures. Below is an example of a simple stim protocol that stimulates 2 different neural unites $n_0$ and $n_1$."
   ]
  },
  {
   "cell_type": "code",
   "execution_count": 23,
   "id": "a4a7e822",
   "metadata": {
    "cell_style": "center"
   },
   "outputs": [],
   "source": [
    "stim_pattern = []\n",
    "stim_pattern.append(('stim',[0],100,200))\n",
    "stim_pattern.append(('delay',200))\n",
    "stim_pattern.append(('stim',[1],150,300))\n",
    "signal,t = create_stim_pulse_sequence(stim_pattern, freq_Hz=2)"
   ]
  },
  {
   "cell_type": "code",
   "execution_count": 24,
   "id": "23959ad0",
   "metadata": {
    "cell_style": "center"
   },
   "outputs": [
    {
     "data": {
      "image/png": "[encoded data removed]",
      "text/plain": [
       "<Figure size 640x480 with 1 Axes>"
      ]
     },
     "metadata": {},
     "output_type": "display_data"
    }
   ],
   "source": [
    "plotStimPattern(signal,t)"
   ]
  },
  {
   "cell_type": "markdown",
   "id": "21897584",
   "metadata": {},
   "source": [
    "In this protocol. $n_0$ is stimulated at 100mV for 200$\\mu$s. We wait 200ms. Then $n_1$ is stimulated at 150mv for 300$\\mu$s. This protocol is repeated at a frequency of 2Hz, which means that the stim pattern occurs twice a second. Below is a slightly more complicated stimulation protocol."
   ]
  },
  {
   "cell_type": "code",
   "execution_count": 25,
   "id": "a0b9bd46",
   "metadata": {},
   "outputs": [],
   "source": [
    "stim_pattern = []\n",
    "stim_pattern.append(('stim',[0,1,2],150,200))\n",
    "stim_pattern.append(('delay',5))\n",
    "stim_pattern.append(('stim',[1],150,200))\n",
    "stim_pattern.append(('delay',15))\n",
    "stim_pattern.append(('stim',[0,2],150,200))\n",
    "signal,t = create_stim_pulse_sequence(stim_pattern, freq_Hz=10)"
   ]
  },
  {
   "cell_type": "code",
   "execution_count": 26,
   "id": "b0c4ff0e",
   "metadata": {},
   "outputs": [
    {
     "data": {
      "image/png": "[encoded data removed]",
      "text/plain": [
       "<Figure size 640x480 with 1 Axes>"
      ]
     },
     "metadata": {},
     "output_type": "display_data"
    }
   ],
   "source": [
    "plotStimPattern(signal,t)"
   ]
  },
  {
   "cell_type": "markdown",
   "id": "c2fbb720",
   "metadata": {},
   "source": [
    "This time, there are **3** neural units being stimulated, $n_0$, $n_1$, $n_2$. First, all 3 unites are stimulated at 150mV for 200$\\mu$s. Then there is a 5ms delay. Afterwards, $n_1$ is stimulated at 150mV for 200$\\mu$s. Then there is a 15ms delay. Finally, $n_0$ and $n_2$ are stimulated at 150mV for 200$\\mu$s. This pattern is repeated 10 times a second (10Hz). Notice that becase these simulation patterns are overlapping, we do no see the blue stimulus pattern of $n_0$ above. To ensure that $n_0$ is being stimulated, and that are stimulation protocol is correct. we can graph the stimulation patterns for each neural unit individually."
   ]
  },
  {
   "cell_type": "code",
   "execution_count": 27,
   "id": "b442b1d8",
   "metadata": {},
   "outputs": [
    {
     "data": {
      "image/png": "[encoded data removed]",
      "text/plain": [
       "<Figure size 1600x400 with 3 Axes>"
      ]
     },
     "metadata": {},
     "output_type": "display_data"
    }
   ],
   "source": [
    "plotIndividualPatterns(signal,t)"
   ]
  },
  {
   "cell_type": "markdown",
   "id": "d4a72b2c",
   "metadata": {},
   "source": [
    "You stimulation protocl that you select for your experiment must be able to be code with the methodology described above. You may notice, and be dismayed, that this methodology of constructing stim patterns limitis the experimental procedures you can implement. This is intentional. We want to ensure that you create a simple experiment whose data is analyzable for your final project. Note that if you create a stim pattern that is too long, and fires at a slower frequency than what you set as the repeat frequency (Hz), you will get an error. This, again, reduces the complexity of experiments you can perform."
   ]
  },
  {
   "cell_type": "code",
   "execution_count": 16,
   "id": "6010c3fd",
   "metadata": {},
   "outputs": [
    {
     "ename": "ValueError",
     "evalue": "too many values to unpack (expected 2)",
     "output_type": "error",
     "traceback": [
      "\u001b[0;31m---------------------------------------------------------------------------\u001b[0m",
      "\u001b[0;31mValueError\u001b[0m                                Traceback (most recent call last)",
      "Cell \u001b[0;32mIn[16], line 7\u001b[0m\n\u001b[1;32m      5\u001b[0m stim_pattern\u001b[38;5;241m.\u001b[39mappend((\u001b[38;5;124m'\u001b[39m\u001b[38;5;124mdelay\u001b[39m\u001b[38;5;124m'\u001b[39m,\u001b[38;5;241m250\u001b[39m))\n\u001b[1;32m      6\u001b[0m stim_pattern\u001b[38;5;241m.\u001b[39mappend((\u001b[38;5;124m'\u001b[39m\u001b[38;5;124mstim\u001b[39m\u001b[38;5;124m'\u001b[39m,[\u001b[38;5;241m2\u001b[39m],\u001b[38;5;241m150\u001b[39m,\u001b[38;5;241m200\u001b[39m))\n\u001b[0;32m----> 7\u001b[0m signal,t \u001b[38;5;241m=\u001b[39m create_stim_pulse_sequence(stim_pattern, freq_Hz\u001b[38;5;241m=\u001b[39m\u001b[38;5;241m3\u001b[39m)\n",
      "\u001b[0;31mValueError\u001b[0m: too many values to unpack (expected 2)"
     ]
    }
   ],
   "source": [
    "stim_pattern = []\n",
    "stim_pattern.append(('stim',[0],150,200))\n",
    "stim_pattern.append(('delay',250))\n",
    "stim_pattern.append(('stim',[1],150,200))\n",
    "stim_pattern.append(('delay',250))\n",
    "stim_pattern.append(('stim',[2],150,200))\n",
    "signal,t = create_stim_pulse_sequence(stim_pattern, freq_Hz=3)"
   ]
  },
  {
   "cell_type": "markdown",
   "id": "99797802",
   "metadata": {
    "heading_collapsed": true
   },
   "source": [
    "## Suggestions "
   ]
  },
  {
   "cell_type": "markdown",
   "id": "c0a7e5c6",
   "metadata": {
    "hidden": true
   },
   "source": [
    "This is your first time every doing stimulation, and biological experiments often do not go according to plan. It is probably in your own best interest to propose a simple straightforward stim experiment. I highly reccomend sticking with stim pulse parameters close to our lab's current standard parameters (150mV, 200$\\mu$s, 5-10Hz), unless tweaking the parameters is the purpose of your experiment. Do not stimulate tissue above 250mV, at a frequencey faster than 25Hz, or for longer than 400$\\mu$s. You do not want kill the connectoid! If you are a neuroscientist with stim experience, you are allowed to work outside this parameter bound. Regarding the duration of your stim experiment, you are most likely to see changes in neural behaviour if you stim for the maximum possible duration of the experiment (5 minutes), however, you are allowed to specify a shorter duration if you choose."
   ]
  },
  {
   "cell_type": "markdown",
   "id": "42c929dd",
   "metadata": {
    "hidden": true
   },
   "source": [
    "[Neural plasticity](https://en.wikipedia.org/wiki/Neuroplasticity) is likely the topic that most of you are interested in, but it is also difficult to induce. Read [Searching for Neural Plasticity](reading_material/Searching_for_Plasticity.pdf) to see a master in the field fail at it. [Hebbian Learning](https://en.wikipedia.org/wiki/Hebbian_theory) is the most well known form of neural plasticity. Scholarpedia has a more [in depth description](http://www.scholarpedia.org/article/Models_of_synaptic_plasticity). The simplest way to attempt to induce Hebbian learning is to pick two neurons that are in close proximity to one another, then to stimulate both of them with a slight delay between pulses (perhaps 5ms delay). The stimulation regime could occur at a frequency of 10Hz. You do not need to succesfully induce plasticity to receive fullt credit on your project. We are most intersted in the analysis of your results."
   ]
  },
  {
   "cell_type": "markdown",
   "id": "602884c6",
   "metadata": {
    "hidden": true
   },
   "source": [
    "A easier form of plasticity to observe in neurons is the tetanus affect. When neurons are forced to fire rapidly at a high frequency for extended periods of time it drains all their energy, causing them to fire less rapidly for a period of time afterwards. This tetanus affect might be observed if you stimulate the tissue nonstop at 20-25Hz. "
   ]
  },
  {
   "cell_type": "markdown",
   "id": "54a45790",
   "metadata": {
    "hidden": true
   },
   "source": [
    "You may like to experiment with what voltage is required to make a neuron fire. For this experiment you may try stimming at a low voltage, perhaps 50mV, a meduim voltage (100mV), and a high voltage (100mV). Then in your analysis, you can observe at what voltage the neurons started to respond to stimulation."
   ]
  },
  {
   "cell_type": "markdown",
   "id": "66429274",
   "metadata": {
    "hidden": true
   },
   "source": [
    "There are other experiments where you could simply use the standard stimulation protocol (150mV, 200$\\mu$s, 5-10Hz) for the entire experiment. Then the novel work of your experiment could all be in the analysis. For example if one organoid of a connectoid is stimulated, how does the other side respond? If both organoids in a connectoid are stimulated at the same frequency, does the dynamics between them change afterwards?"
   ]
  },
  {
   "cell_type": "markdown",
   "id": "00657261",
   "metadata": {},
   "source": [
    "# <font color=\"red\">Exercises "
   ]
  },
  {
   "cell_type": "markdown",
   "id": "81d13cb0",
   "metadata": {},
   "source": [
    "## Connectoid  Dynamics  \n",
    "    "
   ]
  },
  {
   "cell_type": "markdown",
   "id": "8dc502da",
   "metadata": {},
   "source": [
    "These questions will provide you with a greater understanding of the material discussed in this notebook."
   ]
  },
  {
   "cell_type": "markdown",
   "id": "c420fadf",
   "metadata": {
    "heading_collapsed": true
   },
   "source": [
    "### Questions from Reading "
   ]
  },
  {
   "cell_type": "markdown",
   "id": "a7793f7a",
   "metadata": {
    "hidden": true
   },
   "source": [
    "Name one machine learning algorithm/calculation that is used as a step in spikesorting. Explain what this algorithm/calculation does (1-2 sentences). What is a spike time latency distribution. Which paper/figure provides a visual depiction of the spike time latency distribution between different neural units. What do do the different colors of the figure represent?"
   ]
  },
  {
   "cell_type": "markdown",
   "id": "57205927",
   "metadata": {
    "hidden": true
   },
   "source": [
    "<font color=\"green\"><b>Answer"
   ]
  },
  {
   "cell_type": "markdown",
   "id": "38544456",
   "metadata": {
    "hidden": true
   },
   "source": [
    "<font color=\"green\">Provide answer to spikesorting question below:"
   ]
  },
  {
   "cell_type": "markdown",
   "id": "ad8aa9fe",
   "metadata": {
    "hidden": true
   },
   "source": []
  },
  {
   "cell_type": "markdown",
   "id": "a70b496a",
   "metadata": {
    "hidden": true
   },
   "source": [
    "<font color=\"green\">Provide answer to spike latency question."
   ]
  },
  {
   "cell_type": "markdown",
   "id": "82b62fab",
   "metadata": {
    "hidden": true
   },
   "source": []
  },
  {
   "cell_type": "markdown",
   "id": "17d7ba3e",
   "metadata": {
    "heading_collapsed": true
   },
   "source": [
    "### Previous Graphs   "
   ]
  },
  {
   "cell_type": "markdown",
   "id": "47cc981f",
   "metadata": {
    "hidden": true
   },
   "source": [
    "Create plots of the connectoid dataset's entire spike raster, a histogram of the interspike interval, and the correlation matrix. Create a zoom in plot of the first 4 bursts in the spike raster. Create a histogram of the firing rates for all neural units. Choose one of the graphs and briefly explain what you see (1-2 sentences). "
   ]
  },
  {
   "cell_type": "markdown",
   "id": "b8f2a16f",
   "metadata": {
    "hidden": true
   },
   "source": [
    "<font color=\"green\"><b>Answer"
   ]
  },
  {
   "cell_type": "markdown",
   "id": "afc8c644",
   "metadata": {
    "hidden": true
   },
   "source": [
    "<font color=\"green\"> Provide explanation below"
   ]
  },
  {
   "cell_type": "markdown",
   "id": "03e1597a",
   "metadata": {
    "hidden": true
   },
   "source": []
  },
  {
   "cell_type": "markdown",
   "id": "7f2241e9",
   "metadata": {
    "hidden": true
   },
   "source": [
    "<font color=\"green\">Provide code for plotting graph below:"
   ]
  },
  {
   "cell_type": "code",
   "execution_count": null,
   "id": "cb65ca5f",
   "metadata": {
    "hidden": true
   },
   "outputs": [],
   "source": []
  },
  {
   "cell_type": "markdown",
   "id": "c917ae52",
   "metadata": {
    "heading_collapsed": true
   },
   "source": [
    "### Data Summary "
   ]
  },
  {
   "cell_type": "markdown",
   "id": "4bfcf697",
   "metadata": {
    "hidden": true
   },
   "source": [
    "How many electrodes are there on the MEA? <font color=\"orange\"><b>Hint:</b> Check the reading for exact number.</font> How many electrodes are we recording from? How many electrodes *could we record from*? How many neural units were found through spike sorting? How many rows are there in this connectoid's spike raster? "
   ]
  },
  {
   "cell_type": "markdown",
   "id": "e9219f00",
   "metadata": {
    "hidden": true
   },
   "source": [
    "<font color=\"green\"><b>Answer"
   ]
  },
  {
   "cell_type": "markdown",
   "id": "a29cb94e",
   "metadata": {
    "hidden": true
   },
   "source": [
    "<font color=\"green\">Provide an text answers below:"
   ]
  },
  {
   "cell_type": "markdown",
   "id": "30f4f668",
   "metadata": {
    "hidden": true
   },
   "source": []
  },
  {
   "cell_type": "markdown",
   "id": "e7585ae2",
   "metadata": {
    "hidden": true
   },
   "source": [
    "<font color=\"green\">Provide any code for calculations below:"
   ]
  },
  {
   "cell_type": "code",
   "execution_count": null,
   "id": "df826295",
   "metadata": {
    "hidden": true
   },
   "outputs": [],
   "source": []
  },
  {
   "cell_type": "markdown",
   "id": "affdf5be",
   "metadata": {
    "heading_collapsed": true
   },
   "source": [
    "### Organoids in Connectoids  "
   ]
  },
  {
   "cell_type": "markdown",
   "id": "46f5aecc",
   "metadata": {
    "hidden": true
   },
   "source": [
    "Copy the code that graphs the neural units of the connectoid on the MEA. Change the graph so that all the neural units in the left connectoid are green, and all the neural units in the right connectoid are red. How many neural units are in the left organoid? How many neural units are in the right organoid?"
   ]
  },
  {
   "cell_type": "markdown",
   "id": "b5177d86",
   "metadata": {
    "hidden": true
   },
   "source": [
    "<font color=\"green\"><b>Answer"
   ]
  },
  {
   "cell_type": "markdown",
   "id": "ded0e1a4",
   "metadata": {
    "hidden": true
   },
   "source": [
    "$\\mathbf{\\#}\\text{ Neurons}_{\\text{Left Organoid}}=$\n",
    "\n",
    "$\\mathbf{\\#}\\text{ Neurons}_{\\text{Right Organoid}}=$"
   ]
  },
  {
   "cell_type": "markdown",
   "id": "11797163",
   "metadata": {
    "hidden": true
   },
   "source": [
    "<font color=\"green\">Provide code for the graph and calculations below:"
   ]
  },
  {
   "cell_type": "code",
   "execution_count": null,
   "id": "aa785956",
   "metadata": {
    "hidden": true
   },
   "outputs": [],
   "source": []
  },
  {
   "cell_type": "markdown",
   "id": "eea90e92",
   "metadata": {
    "heading_collapsed": true
   },
   "source": [
    "### Connectoid's STTC "
   ]
  },
  {
   "cell_type": "markdown",
   "id": "58545aec",
   "metadata": {
    "hidden": true
   },
   "source": [
    "Let us define the average STTC between a set of neurons to be the sum of all the STTC coefficients between these neurons divided by the total number of coefficients. Note that in this definition of average STTC, we still include the coefficient between a neuron and itself (eg. the value 1) in the calculation."
   ]
  },
  {
   "cell_type": "markdown",
   "id": "1bfccd5f",
   "metadata": {
    "hidden": true
   },
   "source": [
    "$$\n",
    "\\dfrac{\\sum_{j}^{J}\\sum_{i}^{I}\\text{STTC}_{ij}}{I\\times J}\\quad\\forall i,j\\in\\{\\text{selected neurons}\\}\n",
    "$$"
   ]
  },
  {
   "cell_type": "markdown",
   "id": "99a2b693",
   "metadata": {
    "hidden": true
   },
   "source": [
    "Calculate the average STTC between all the neurons in the connectoid. Calculate the average STTC between all neurons in the left organoid. Finally, calculated the average STTC between all neurons in the right organoid. How does the STTC of the entire connectoid compare to the STTC of the two organoids? Is this what you would expect? Why?"
   ]
  },
  {
   "cell_type": "markdown",
   "id": "b546f69c",
   "metadata": {
    "hidden": true
   },
   "source": [
    "<font color=\"green\"><b>Answer"
   ]
  },
  {
   "cell_type": "markdown",
   "id": "9123d88c",
   "metadata": {
    "hidden": true
   },
   "source": [
    "$\\text{STTC}_{\\text{Connectoid}}=$\n",
    "\n",
    "$\\text{STTC}_{\\text{Left Organoid}}=$\n",
    "\n",
    "$\\text{STTC}_{\\text{Right Organoid}}=$"
   ]
  },
  {
   "cell_type": "markdown",
   "id": "5791837a",
   "metadata": {
    "hidden": true
   },
   "source": [
    "<font color=\"green\">Provide you explanation of results below:"
   ]
  },
  {
   "cell_type": "markdown",
   "id": "124c9d50",
   "metadata": {
    "hidden": true
   },
   "source": []
  },
  {
   "cell_type": "markdown",
   "id": "e3a090c7",
   "metadata": {
    "hidden": true
   },
   "source": [
    "<font color=\"green\">Provide any code you ran below:"
   ]
  },
  {
   "cell_type": "code",
   "execution_count": null,
   "id": "a8bca4d1",
   "metadata": {
    "hidden": true
   },
   "outputs": [],
   "source": []
  },
  {
   "cell_type": "markdown",
   "id": "ce88111a",
   "metadata": {
    "heading_collapsed": true
   },
   "source": [
    "### Latencies <font color=\"red\"> "
   ]
  },
  {
   "cell_type": "markdown",
   "id": "b312c556",
   "metadata": {
    "hidden": true
   },
   "source": [
    "List 5 unique pairs of neural units that have the largest absolute latency values (absolute value of spike latency). For each unique pair, output 2 latency values (depending on which neuron you start with). Plot all 5 of the neural pairs. Do you notice any spatial relationship between the pairs of points?"
   ]
  },
  {
   "cell_type": "markdown",
   "id": "a7738581",
   "metadata": {
    "hidden": true
   },
   "source": [
    "<font color=\"green\">Provide explanation below:"
   ]
  },
  {
   "cell_type": "markdown",
   "id": "5b8ab637",
   "metadata": {
    "hidden": true
   },
   "source": []
  },
  {
   "cell_type": "markdown",
   "id": "fca50714",
   "metadata": {
    "hidden": true
   },
   "source": [
    "<font color=\"green\">Provide code below:"
   ]
  },
  {
   "cell_type": "code",
   "execution_count": null,
   "id": "0b57ecfe",
   "metadata": {
    "hidden": true
   },
   "outputs": [],
   "source": []
  },
  {
   "cell_type": "markdown",
   "id": "170acbab",
   "metadata": {
    "heading_collapsed": true
   },
   "source": [
    "## Experiment "
   ]
  },
  {
   "cell_type": "markdown",
   "id": "81000fa7",
   "metadata": {
    "heading_collapsed": true,
    "hidden": true
   },
   "source": [
    "### Hypothesis <font color=\"red\"> "
   ]
  },
  {
   "cell_type": "markdown",
   "id": "74a87583",
   "metadata": {
    "hidden": true
   },
   "source": [
    "State the general topic that your experiment will revolve around. For example, is this a Hebbian learning experiment? An experiment checking voltage levels? What is the hypothesis that the experiment you are constructing will attempt to test? What justification in literature is there to support your hypothesis? If your experiment goes according to plan what will be the outcome according to your hypothesis?"
   ]
  },
  {
   "cell_type": "markdown",
   "id": "85d10222",
   "metadata": {
    "hidden": true
   },
   "source": [
    "<font color=\"green\"><b>Answer"
   ]
  },
  {
   "cell_type": "markdown",
   "id": "3ce2fa74",
   "metadata": {
    "hidden": true
   },
   "source": []
  },
  {
   "cell_type": "markdown",
   "id": "ec99cf6e",
   "metadata": {
    "heading_collapsed": true,
    "hidden": true
   },
   "source": [
    "### Background Research "
   ]
  },
  {
   "cell_type": "markdown",
   "id": "5d6a48e6",
   "metadata": {
    "heading_collapsed": true,
    "hidden": true
   },
   "source": [
    "#### Literature Review"
   ]
  },
  {
   "cell_type": "markdown",
   "id": "21f2cce4",
   "metadata": {
    "hidden": true
   },
   "source": [
    "Find a paper online that is related to your chosen research topic, but that wasn't provided in any of the HW's. Provide a link to the paper. Briefly summarize the paper (2 sentences). How does does this paper relate to your research? Was reading it helpful? Why/why not?"
   ]
  },
  {
   "cell_type": "markdown",
   "id": "44d847d2",
   "metadata": {
    "hidden": true
   },
   "source": [
    "<font color=\"green\"><b>Answer"
   ]
  },
  {
   "cell_type": "markdown",
   "id": "bedc25bf",
   "metadata": {
    "hidden": true
   },
   "source": []
  },
  {
   "cell_type": "markdown",
   "id": "1b850873",
   "metadata": {
    "heading_collapsed": true,
    "hidden": true
   },
   "source": [
    "#### Method Review"
   ]
  },
  {
   "cell_type": "markdown",
   "id": "36e150ee",
   "metadata": {
    "hidden": true
   },
   "source": [
    "Find a paper, or other online resource, that describes an analysis method/technique not yet discussed in class (it can build on class material though). Provide a link to the paper. Briefly summarize it (2 sentences). Do you plan to do this analysis technique/method on the resulting data from your experiment? How could this analysis technique/method provide insight?"
   ]
  },
  {
   "cell_type": "markdown",
   "id": "d60838f6",
   "metadata": {
    "hidden": true
   },
   "source": [
    "<font color=\"green\"><b>Answer"
   ]
  },
  {
   "cell_type": "markdown",
   "id": "589f0d02",
   "metadata": {
    "hidden": true
   },
   "source": []
  },
  {
   "cell_type": "markdown",
   "id": "79e263c6",
   "metadata": {
    "heading_collapsed": true,
    "hidden": true
   },
   "source": [
    "### Protocol  "
   ]
  },
  {
   "cell_type": "markdown",
   "id": "55174b47",
   "metadata": {
    "hidden": true
   },
   "source": [
    "Describe the protocol for your stimulation experiment using plain english. First state how many electrodes you will be using for stimulation (electrode 1, electrode 2, electrode 3). Then state where the electrodes will be located across **2 organoids**, organoid A and organoid B, that are part of a connectoid. State how many electrodes will be on each organoid. If multiple electrodes are placed on the same organoid, you can request to have electrodes placed in close proximity to eachother. Otherwise, we place the electrode in different regions of the same connectoid.\n",
    "\n",
    "Describe the stimulation protocol that will be used for each of the electrodes you use for stimulation. Be very explicit in your description. A scientist in our lab should be able to perfectly replicate your protocol with exact parameters purely from this description. State the mV and $\\mu$s of the pulses, the frequency (Hz) at which pulses repeat, and the delay inbetween pulses. State the total duration of time you will run the stim protocol (max 5 minutes)."
   ]
  },
  {
   "cell_type": "markdown",
   "id": "acc07773",
   "metadata": {
    "hidden": true
   },
   "source": [
    "<font color=\"green\"><b>Answer"
   ]
  },
  {
   "cell_type": "markdown",
   "id": "bdc7195a",
   "metadata": {
    "hidden": true
   },
   "source": []
  },
  {
   "cell_type": "markdown",
   "id": "8071ae6c",
   "metadata": {
    "heading_collapsed": true,
    "hidden": true
   },
   "source": [
    "### Protocol Justification \n",
    "    "
   ]
  },
  {
   "cell_type": "markdown",
   "id": "0108dc7b",
   "metadata": {
    "hidden": true
   },
   "source": [
    "Justify why you chose this protocol to test your hypothesis. Refer to this notebook, the reading material, or other onlince sources back your claims. (3-4 sentences)"
   ]
  },
  {
   "cell_type": "markdown",
   "id": "6c2ed1a2",
   "metadata": {
    "hidden": true
   },
   "source": [
    "<font color=\"green\"><b>Answer"
   ]
  },
  {
   "cell_type": "markdown",
   "id": "7803a3ae",
   "metadata": {
    "hidden": true
   },
   "source": []
  },
  {
   "cell_type": "markdown",
   "id": "8a88494e",
   "metadata": {
    "heading_collapsed": true,
    "hidden": true
   },
   "source": [
    "### Code   "
   ]
  },
  {
   "cell_type": "markdown",
   "id": "200d9923",
   "metadata": {
    "hidden": true
   },
   "source": [
    "Write code that creates a list of stimulation commands that perfectly replicates the protocol you described in words. Then turn this into a stimulation sequence."
   ]
  },
  {
   "cell_type": "markdown",
   "id": "23a80072",
   "metadata": {
    "hidden": true
   },
   "source": [
    "<font color=\"green\"><b>Answer"
   ]
  },
  {
   "cell_type": "code",
   "execution_count": null,
   "id": "45ce4c41",
   "metadata": {
    "hidden": true
   },
   "outputs": [],
   "source": []
  },
  {
   "cell_type": "markdown",
   "id": "1038a177",
   "metadata": {
    "heading_collapsed": true,
    "hidden": true
   },
   "source": [
    "### Graph Stimulation Pattern  "
   ]
  },
  {
   "cell_type": "markdown",
   "id": "b60f5c0d",
   "metadata": {
    "hidden": true
   },
   "source": [
    "Create a plot of your stimulation sequence. Create two additional plots where you zoom in on the beginning and end of your stimulation sequence to ensure that it runs according to plan. If you have to for your sequence, create subplots of individual stimulation electrodes to ensure they are correct (this last step won't be graded)."
   ]
  },
  {
   "cell_type": "markdown",
   "id": "ef46ac4b",
   "metadata": {
    "hidden": true
   },
   "source": [
    "<font color=\"green\"><b>Answer"
   ]
  },
  {
   "cell_type": "markdown",
   "id": "4f98385a",
   "metadata": {
    "hidden": true
   },
   "source": [
    "<font color=\"green\">Explain why the graphs below verify that your code for the stimulation protocol is correct:"
   ]
  },
  {
   "cell_type": "markdown",
   "id": "e4937442",
   "metadata": {
    "hidden": true
   },
   "source": []
  },
  {
   "cell_type": "markdown",
   "id": "dc0424a8",
   "metadata": {
    "hidden": true
   },
   "source": [
    "<font color=\"green\">Provide the code to create your plots:"
   ]
  },
  {
   "cell_type": "code",
   "execution_count": null,
   "id": "95c33b3d",
   "metadata": {
    "hidden": true
   },
   "outputs": [],
   "source": []
  },
  {
   "cell_type": "markdown",
   "id": "a59eaaaf",
   "metadata": {
    "heading_collapsed": true,
    "hidden": true
   },
   "source": [
    "### Plot Stim Electrode Layout  "
   ]
  },
  {
   "cell_type": "markdown",
   "id": "ce16edb5",
   "metadata": {
    "hidden": true
   },
   "source": [
    "For your experiment we will be using a special type of connectoid invented by the Haussler lab. These connectoids are called **Delta Connectoids**. Below is a mock example of what an MEA electrode layout could look like when recording from an Delta connectoid."
   ]
  },
  {
   "cell_type": "code",
   "execution_count": null,
   "id": "1428e72c",
   "metadata": {
    "hidden": true
   },
   "outputs": [],
   "source": [
    "deltaLayout()"
   ]
  },
  {
   "cell_type": "markdown",
   "id": "76795a2d",
   "metadata": {
    "hidden": true
   },
   "source": [
    "How many organoids do you believe are used to create a delta connectoid? "
   ]
  },
  {
   "cell_type": "markdown",
   "id": "94ef6636",
   "metadata": {
    "hidden": true
   },
   "source": [
    "Copy the code from the graph above. In the graph of the delta connectoid, add colored circles to the graph that represent the neural units you will be stimulating in your experiment. The placement of the neural units (relative to each other) should correspond with where you stated the units would be in your protocol. Remember, you are only allowed to place stimulate neural units from **2 organoids**. Have the color of the neural units correspond to the same color of the unit's firing pattern in the \"firing pattern\" graph."
   ]
  },
  {
   "cell_type": "markdown",
   "id": "ef265a84",
   "metadata": {
    "hidden": true
   },
   "source": [
    "<font color=\"green\"><b>Answer"
   ]
  },
  {
   "cell_type": "markdown",
   "id": "0aad16fe",
   "metadata": {
    "hidden": true
   },
   "source": [
    "<font color=\"green\">Answer how many organoids are in a delta connectoid"
   ]
  },
  {
   "cell_type": "markdown",
   "id": "3bcd69da",
   "metadata": {
    "hidden": true
   },
   "source": []
  },
  {
   "cell_type": "markdown",
   "id": "26d828ea",
   "metadata": {
    "hidden": true
   },
   "source": [
    "<font color=\"green\">Plot the placement of your stimulation electrodes below."
   ]
  },
  {
   "cell_type": "code",
   "execution_count": null,
   "id": "88d8300e",
   "metadata": {
    "hidden": true
   },
   "outputs": [],
   "source": []
  },
  {
   "cell_type": "markdown",
   "id": "9a812a7e",
   "metadata": {
    "heading_collapsed": true,
    "hidden": true
   },
   "source": [
    "### Expectations  "
   ]
  },
  {
   "cell_type": "markdown",
   "id": "99ed5420",
   "metadata": {
    "hidden": true
   },
   "source": [
    "How likely is it that your experiment will go according to plan? If your experiment doesn't go according to plan, what things can you still learn from analysing the data?"
   ]
  },
  {
   "cell_type": "markdown",
   "id": "9c27a285",
   "metadata": {
    "hidden": true
   },
   "source": [
    "<font color=\"green\"><b>Answer"
   ]
  },
  {
   "cell_type": "markdown",
   "id": "369829b9",
   "metadata": {
    "hidden": true
   },
   "source": []
  },
  {
   "cell_type": "code",
   "execution_count": null,
   "id": "9bf49415",
   "metadata": {
    "hidden": true
   },
   "outputs": [],
   "source": []
  },
  {
   "cell_type": "code",
   "execution_count": null,
   "id": "7cd9ea34",
   "metadata": {
    "hidden": true
   },
   "outputs": [],
   "source": []
  }
 ],
 "metadata": {
  "hide_input": false,
  "kernelspec": {
   "display_name": "Python 3 (ipykernel)",
   "language": "python",
   "name": "python3"
  },
  "language_info": {
   "codemirror_mode": {
    "name": "ipython",
    "version": 3
   },
   "file_extension": ".py",
   "mimetype": "text/x-python",
   "name": "python",
   "nbconvert_exporter": "python",
   "pygments_lexer": "ipython3",
   "version": "3.10.10"
  },
  "toc": {
   "base_numbering": 1,
   "nav_menu": {},
   "number_sections": true,
   "sideBar": true,
   "skip_h1_title": false,
   "title_cell": "Table of Contents",
   "title_sidebar": "Contents",
   "toc_cell": false,
   "toc_position": {},
   "toc_section_display": true,
   "toc_window_display": false
  },
  "varInspector": {
   "cols": {
    "lenName": 16,
    "lenType": 16,
    "lenVar": 40
   },
   "kernels_config": {
    "python": {
     "delete_cmd_postfix": "",
     "delete_cmd_prefix": "del ",
     "library": "var_list.py",
     "varRefreshCmd": "print(var_dic_list())"
    },
    "r": {
     "delete_cmd_postfix": ") ",
     "delete_cmd_prefix": "rm(",
     "library": "var_list.r",
     "varRefreshCmd": "cat(var_dic_list()) "
    }
   },
   "types_to_exclude": [
    "module",
    "function",
    "builtin_function_or_method",
    "instance",
    "_Feature"
   ],
   "window_display": false
  }
 },
 "nbformat": 4,
 "nbformat_minor": 5
}
