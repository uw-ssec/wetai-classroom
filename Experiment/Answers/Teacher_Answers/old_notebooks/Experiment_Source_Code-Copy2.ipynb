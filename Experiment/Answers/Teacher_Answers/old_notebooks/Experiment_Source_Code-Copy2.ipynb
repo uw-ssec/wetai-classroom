{
 "cells": [
  {
   "cell_type": "markdown",
   "id": "9a76e8fb",
   "metadata": {},
   "source": [
    "<font size=7 face=\"courier\">Experiment Source Code"
   ]
  },
  {
   "cell_type": "markdown",
   "id": "c4fc831b",
   "metadata": {},
   "source": [
    "# <font color=\"gray\"> Set Up Notebook"
   ]
  },
  {
   "cell_type": "markdown",
   "id": "7e750365",
   "metadata": {},
   "source": [
    "import stuff"
   ]
  },
  {
   "cell_type": "code",
   "execution_count": 1,
   "id": "568b9bd7",
   "metadata": {},
   "outputs": [],
   "source": [
    "#!pip install powerlaw\n",
    "# !pip install smart_open\n",
    "# !pip install awswrangler\n",
    "# !pip install deprecated\n",
    "# !pip install nptyping"
   ]
  },
  {
   "cell_type": "markdown",
   "id": "668235ba",
   "metadata": {},
   "source": [
    "Import Packages"
   ]
  },
  {
   "cell_type": "code",
   "execution_count": 2,
   "id": "24ab5182",
   "metadata": {},
   "outputs": [],
   "source": [
    "import numpy as np\n",
    "import matplotlib.pyplot as plt\n",
    "import braingeneers\n",
    "from braingeneers.analysis.analysis import SpikeData, read_phy_files\n",
    "import braingeneers.data.datasets_electrophysiology as ephys\n",
    "import scipy.io as sio\n",
    "import scipy\n",
    "from scipy.ndimage import gaussian_filter1d\n",
    "import glob\n",
    "import pandas as pd"
   ]
  },
  {
   "cell_type": "markdown",
   "id": "e22c736c",
   "metadata": {},
   "source": [
    "Load Data"
   ]
  },
  {
   "cell_type": "code",
   "execution_count": 3,
   "id": "b19d4f6a",
   "metadata": {},
   "outputs": [
    {
     "name": "stdout",
     "output_type": "stream",
     "text": [
      "Loading ./data/ephys/2022-04-28-e-/derived/kilosort2/Trace_20220428_15_52_47_chip11350_curated.zip\n"
     ]
    }
   ],
   "source": [
    "braingeneers.set_default_endpoint(\"./data\")\n",
    "files = glob.glob('./data/ephys/2022-04-28-e-/derived/kilosort2/*')\n",
    "print('Loading', files[0])\n",
    "sd = read_phy_files(files[0])\n",
    "metadata = ephys.load_metadata('2022-04-28-e-')"
   ]
  },
  {
   "cell_type": "markdown",
   "id": "c951c836",
   "metadata": {},
   "source": [
    "# Helper Code"
   ]
  },
  {
   "cell_type": "markdown",
   "id": "af75777e",
   "metadata": {},
   "source": [
    "Get time and signal"
   ]
  },
  {
   "cell_type": "code",
   "execution_count": 31,
   "id": "5a2e054d",
   "metadata": {},
   "outputs": [],
   "source": [
    "def getTimeSignal(seconds, num_neurons=1):\n",
    "    return np.arange(0,seconds*s_to_fs)/s_to_fs , np.zeros((seconds* s_to_fs, num_neurons))"
   ]
  },
  {
   "cell_type": "markdown",
   "id": "757e05d8",
   "metadata": {},
   "source": [
    "create square wave"
   ]
  },
  {
   "cell_type": "code",
   "execution_count": 30,
   "id": "a8df1d63",
   "metadata": {},
   "outputs": [],
   "source": [
    "def squareWave( signal, time_s, phase_us=200, amp_mV=150):\n",
    "    s_to_fs = 20000   #ms_to_fs=20\n",
    "    us_to_fs = .02\n",
    "    \n",
    "    time_fs  = time_s * s_to_fs\n",
    "    phase_fs =  int(phase_us * us_to_fs)   # Previously used ms #phase_fs = phase_ms * ms_to_fs\n",
    "    half_phase_fs = int(phase_fs/2)\n",
    "    \n",
    "    signal[ time_fs:time_fs+half_phase_fs] = amp_mV\n",
    "    signal[ time_fs+half_phase_fs : time_fs+half_phase_fs*2] = -amp_mV\n",
    "    return signal\n"
   ]
  },
  {
   "cell_type": "markdown",
   "id": "e5840a12",
   "metadata": {},
   "source": [
    "# Basic Pulse"
   ]
  },
  {
   "cell_type": "code",
   "execution_count": 12,
   "id": "8f9eef75",
   "metadata": {},
   "outputs": [
    {
     "data": {
      "image/png": "[encoded data removed]",
      "text/plain": [
       "<Figure size 640x480 with 1 Axes>"
      ]
     },
     "metadata": {},
     "output_type": "display_data"
    }
   ],
   "source": [
    "t,signal =  getTimeSignal(60)\n",
    "signal = squareWave( signal, time_s=1, phase_us=200, amp_mV=150 )\n",
    "\n",
    "plt.plot(t,signal)\n",
    "plt.xlim([.998,1.002])\n",
    "plt.xlabel('seconds')\n",
    "plt.ylabel('Voltage (mv)')\n",
    "plt.show()"
   ]
  },
  {
   "cell_type": "markdown",
   "id": "73cfd4c9",
   "metadata": {},
   "source": [
    "# Sequence Creater"
   ]
  },
  {
   "cell_type": "code",
   "execution_count": null,
   "id": "d52d68a3",
   "metadata": {},
   "outputs": [],
   "source": []
  },
  {
   "cell_type": "code",
   "execution_count": null,
   "id": "2f2d12ca",
   "metadata": {},
   "outputs": [],
   "source": []
  },
  {
   "cell_type": "code",
   "execution_count": null,
   "id": "4f1aa1fb",
   "metadata": {},
   "outputs": [],
   "source": []
  },
  {
   "cell_type": "code",
   "execution_count": null,
   "id": "8f218f58",
   "metadata": {},
   "outputs": [],
   "source": []
  },
  {
   "cell_type": "code",
   "execution_count": 13,
   "id": "fdf59096",
   "metadata": {},
   "outputs": [],
   "source": [
    "def insert_square_wave_advanced(sig,time,phase_length=20, amplitude=1):\n",
    "    '''Deflects positively at *time* for 20 samples (1ms) then deflects negatively for 20 samples, \n",
    "    then returns to normal'''\n",
    "    sig[time:time+phase_length] = amplitude\n",
    "    sig[time+phase_length:time+phase_length*2] = -amplitude\n",
    "    return sig"
   ]
  },
  {
   "cell_type": "code",
   "execution_count": 27,
   "id": "db20f437",
   "metadata": {},
   "outputs": [],
   "source": [
    "stim_pattern = []\n",
    "stim_pattern.append(('stim',[0],150,200))\n",
    "stim_pattern.append(('delay',200))\n",
    "stim_pattern.append(('stim',[1],200,200))\n",
    "stim_pattern.append(('delay',250))\n",
    "stim_pattern.append(('stim',[0,1,2],150,200))\n",
    "\n",
    "\n",
    "\n",
    "def create_stim_pulse_sequence(stim_list, freq_Hz=None, time_arr = None,max_time_s = 1):\n",
    "    \"\"\"\n",
    "    Creates a stim pulse sequence, parallels the real code that will run on the Maxwell\n",
    "    \n",
    "    Params:\n",
    "    stim_list - list of tuples indicating the commands to run\n",
    "            ------------------------------------------------\n",
    "            For 'stim' command:\n",
    "            ('stim', [neuron inds], mv, us per phase)\n",
    "\n",
    "            For 'delay'\n",
    "            ('delay', frames_delay)\n",
    "            \n",
    "            For 'next'\n",
    "            ('next', None)\n",
    "            This command acts as a placeholder to move to the next timepoint in the time_arr or the next\n",
    "            period triggered by the freq_Hz\n",
    "            -------------------------------------------------\n",
    "    freq_Hz - frequency to call the top stim_list in\n",
    "            *Note* this takes priority over time_arr\n",
    "    time_arr - array of time values that will be when the stimulations occur in order\n",
    "    \n",
    "    max_time_s - time in seconds to stimulate\n",
    "    \n",
    "    \n",
    "    Returns:\n",
    "    sig - np.array -- shape=(n_neurons, timesteps) of what the signal will look like\n",
    "    t - np.array   -- shape=(timesteps) of time in seconds\n",
    "    \"\"\"\n",
    "    \n",
    "    # Since this is fake, only parallels the code on the device,\n",
    "    # We have to make our own time\n",
    "    # And simulate what the stimulation will look like\n",
    "    \n",
    "    # Conversion paramerters\n",
    "    fs_ms = 20 # Good for converting frames to ms\n",
    "    fs_us = .2\n",
    "    \n",
    "    # stim list\n",
    "    seq = ('next',None)\n",
    "    stim_list.append(seq)\n",
    "    stim_list=stim_list*freq_Hz\n",
    "    \n",
    "    # Setup\n",
    "    fs = 20000\n",
    "    n_neurons = 3\n",
    "    t = np.arange(0,fs*max_time_s)/fs\n",
    "    sig = np.zeros(shape=(n_neurons,t.shape[0]))\n",
    "    \n",
    "    \n",
    "    # This would be generated in *real time*\n",
    "    if freq_Hz is not None:\n",
    "        # Until the time is right to stimulation the sequence\n",
    "        for time in t[::fs//freq_Hz]:\n",
    "            time_frames = int(time*fs)\n",
    "            \n",
    "            \n",
    "            if len(stim_list) == 0:\n",
    "                return sig\n",
    "            \n",
    "            #Build the sequence\n",
    "            command = None\n",
    "            \n",
    "            while (command != 'next'):\n",
    "                command, *params = stim_list.pop(0) # Get first thing off list\n",
    "                if command == 'stim':\n",
    "                    neurons, amplitude, phase_length = params\n",
    "                    phase_length = int(phase_length*fs_us)\n",
    "                    \n",
    "                    # Change signal for each neuron\n",
    "                    for n in neurons:\n",
    "                        sig[n,:] = insert_square_wave_advanced(sig[n,:],time_frames,phase_length, amplitude=amplitude)\n",
    "                    time_frames += phase_length*2\n",
    "                    \n",
    "                if command == 'delay':\n",
    "                    time_frames += fs_ms*params[0]\n",
    "                    \n",
    "                #double checking here\n",
    "                if command == 'next':\n",
    "                    break \n",
    "                    \n",
    "        return sig,t\n",
    "                    \n",
    "\n",
    "\n",
    "\n",
    "\n",
    "\n",
    "    "
   ]
  },
  {
   "cell_type": "code",
   "execution_count": null,
   "id": "d9d1d681",
   "metadata": {},
   "outputs": [],
   "source": []
  },
  {
   "cell_type": "code",
   "execution_count": 28,
   "id": "a6c2e097",
   "metadata": {},
   "outputs": [
    {
     "data": {
      "image/png": "[encoded data removed]",
      "text/plain": [
       "<Figure size 640x480 with 1 Axes>"
      ]
     },
     "metadata": {},
     "output_type": "display_data"
    }
   ],
   "source": [
    "sig,t = create_stim_pulse_sequence(stim_list, freq_Hz=1)\n",
    "\n",
    "plt.plot(t,sig.T)\n",
    "plt.legend(['n1','n2','n3'])\n",
    "plt.show()"
   ]
  },
  {
   "cell_type": "code",
   "execution_count": null,
   "id": "4e0a84ef",
   "metadata": {},
   "outputs": [],
   "source": []
  },
  {
   "cell_type": "code",
   "execution_count": null,
   "id": "c4c1fbe7",
   "metadata": {},
   "outputs": [],
   "source": []
  },
  {
   "cell_type": "code",
   "execution_count": null,
   "id": "f983db4a",
   "metadata": {},
   "outputs": [],
   "source": []
  },
  {
   "cell_type": "code",
   "execution_count": null,
   "id": "63452755",
   "metadata": {},
   "outputs": [],
   "source": []
  },
  {
   "cell_type": "code",
   "execution_count": null,
   "id": "2e9f6bb5",
   "metadata": {},
   "outputs": [],
   "source": []
  },
  {
   "cell_type": "code",
   "execution_count": null,
   "id": "3e2f1443",
   "metadata": {},
   "outputs": [],
   "source": []
  },
  {
   "cell_type": "code",
   "execution_count": null,
   "id": "2be9a323",
   "metadata": {},
   "outputs": [],
   "source": []
  },
  {
   "cell_type": "code",
   "execution_count": null,
   "id": "2effb8fc",
   "metadata": {},
   "outputs": [],
   "source": []
  },
  {
   "cell_type": "code",
   "execution_count": null,
   "id": "45d87ee4",
   "metadata": {},
   "outputs": [],
   "source": []
  },
  {
   "cell_type": "markdown",
   "id": "e5539908",
   "metadata": {},
   "source": [
    "# <font color=\"brown\">Old Junk"
   ]
  },
  {
   "cell_type": "code",
   "execution_count": null,
   "id": "94e7f2f0",
   "metadata": {},
   "outputs": [],
   "source": [
    "# Generate a stimulation waveform\n",
    "\n",
    "fs = 20000 # samples per second\n",
    "\n",
    "t = np.arange(0,fs*60)/fs\n",
    "print('Shape of t', t.shape)\n",
    "\n",
    "# Imagine we have zero signal, same shape as t\n",
    "sig = np.zeros_like(t)\n",
    "print('Shape of sig', sig.shape)\n",
    "\n",
    "plt.plot(t,sig) # this is boring, but we will build\n",
    "plt.show()\n",
    "\n"
   ]
  },
  {
   "cell_type": "code",
   "execution_count": null,
   "id": "46f867ab",
   "metadata": {},
   "outputs": [],
   "source": [
    "# Now we want to build a square wave, where it is positive first, then negative, lets \n",
    "# make a function that does that starting at a specific timepoint in t\n",
    "\n",
    "def insert_square_wave(sig,time):\n",
    "    '''Deflects positively at *time* for 20 samples (1ms) then deflects negatively for 20 samples, \n",
    "    then returns to normal'''\n",
    "    sig[time:time+20] = 1\n",
    "    sig[time+20:time+40] = -1\n",
    "    return sig\n",
    "\n",
    "t = np.arange(0,fs*60)/fs\n",
    "sig = np.zeros_like(t)\n",
    "\n",
    "sig2 = insert_square_wave(sig,1*fs) #insert it 1s in\n",
    "\n",
    "plt.plot(t,sig2)\n",
    "plt.xlim([0,2])\n",
    "plt.xlabel('seconds')\n",
    "plt.ylabel('amplitude')\n",
    "plt.show()\n",
    "\n",
    "# Well we may need to zoom more, remember this is *tiny*, we are in the milliseconds here\n",
    "\n",
    "plt.plot(t,sig2)\n",
    "plt.xlim([.99,1.01])# 200ms around the time we inserted\n",
    "plt.xlabel('seconds')\n",
    "plt.ylabel('amplitude')\n",
    "plt.show()"
   ]
  },
  {
   "cell_type": "code",
   "execution_count": null,
   "id": "f34ba540",
   "metadata": {},
   "outputs": [],
   "source": [
    "# Ok that looks good. Well, we should modify the function so we can change the duty cycle (length of the phases)\n",
    "# Also we want to scale this!\n",
    "\n",
    "def insert_square_wave_advanced(sig,time,phase_length=20, amplitude=1):\n",
    "    '''Deflects positively at *time* for 20 samples (1ms) then deflects negatively for 20 samples, \n",
    "    then returns to normal'''\n",
    "    sig[time:time+phase_length] = amplitude\n",
    "    sig[time+phase_length:time+phase_length*2] = -amplitude\n",
    "    return sig\n",
    "\n",
    "# Ok looking better\n",
    "\n",
    "\n",
    "t = np.arange(0,fs*1)/fs #We do 1 second this time :shrug:\n",
    "sig = np.zeros_like(t)\n",
    "\n",
    "sig2 = insert_square_wave_advanced(sig,100,phase_length=8, amplitude=2) #insert it 1s in\n",
    "sig2 = insert_square_wave_advanced(sig2,200,phase_length=4, amplitude=1)\n",
    "sig2 = insert_square_wave_advanced(sig2,400,phase_length=100, amplitude=.8)\n",
    "\n",
    "# Well we may need to zoom more, remember this is *tiny*, we are in the milliseconds here\n",
    "\n",
    "plt.plot(t,sig2)\n",
    "plt.xlim([0,.035])# 200ms around the time we inserted\n",
    "plt.xlabel('seconds')\n",
    "plt.ylabel('amplitude')\n",
    "plt.show()"
   ]
  },
  {
   "cell_type": "code",
   "execution_count": null,
   "id": "542c23b6",
   "metadata": {},
   "outputs": [],
   "source": [
    "# Looks good again.\n",
    "# Well this is how we are going to build stimulation for neural units\n",
    "# Ash has parsed the literature and tried experiments, and we've settled on voltages aroung 150-200mv \n",
    "# Which can evoke neural spikes\n",
    "\n",
    "# Unless you are doing closed loop experiments (outside of the scope of this, talk to Ash)\n",
    "# we can create stimulation patterns to stimulate at fixed (or probablistic) intervals!\n",
    "\n",
    "# First lets see what it looks like if our previous pattern occurs at a fixed frequency\n",
    "\n",
    "t = np.arange(0,fs*3)/fs #We do 3 second this time\n",
    "sig = np.zeros_like(t)\n",
    "freq_Hz = 5 # 5 times per second\n",
    "\n",
    "for time in t[::fs//freq_Hz]: #This iterates at the proper frequency, don't worry about it!\n",
    "    \n",
    "    print('Occuring at', time, 'seconds')\n",
    "    \n",
    "\n"
   ]
  },
  {
   "cell_type": "code",
   "execution_count": null,
   "id": "271a9a8f",
   "metadata": {},
   "outputs": [],
   "source": []
  },
  {
   "cell_type": "code",
   "execution_count": null,
   "id": "797e7fdf",
   "metadata": {},
   "outputs": [],
   "source": []
  },
  {
   "cell_type": "code",
   "execution_count": null,
   "id": "ce787883",
   "metadata": {},
   "outputs": [],
   "source": [
    "t = np.arange(0,fs*3)/fs #We do 3 second this time\n",
    "sig = np.zeros_like(t)\n",
    "sig2 = np.zeros_like(t)\n",
    "freq_Hz = 20 # 20 times per second\n",
    "\n",
    "for time in t[::fs//freq_Hz]: #This iterates at the proper frequency, don't worry about it!\n",
    "    # Oops, we have to go from time in seconds to time in frames\n",
    "    time_frames = int(time*fs) # We have to index with integers\n",
    "    \n",
    "    sig=insert_square_wave_advanced(sig,time_frames)\n",
    "    \n",
    "# What do we expect? Hopefully we have 20 squarewaves per second!\n",
    "plt.plot(t,sig)\n",
    "plt.show()\n",
    "    \n",
    "    \n",
    "# MORE, lets change the amplitude as it goes, and the frequency!\n",
    "freq_Hz = 30 # 20 times per second\n",
    "for time in t[::fs//freq_Hz]: #This iterates at the proper frequency, don't worry about it!\n",
    "    # Oops, we have to go from time in seconds to time in frames\n",
    "    time_frames = int(time*fs) # We have to index with integers\n",
    "    \n",
    "    sig2=insert_square_wave_advanced(sig2,time_frames,amplitude = np.sin(time*3))\n",
    "    \n",
    "# What do we expect? Hopefully we have 20 squarewaves per second!\n",
    "plt.plot(t,sig)\n",
    "plt.plot(t,sig2,'g')\n",
    "plt.show() # Pretty, you can see the aliasing!\n",
    "    "
   ]
  },
  {
   "cell_type": "code",
   "execution_count": null,
   "id": "01021abf",
   "metadata": {},
   "outputs": [],
   "source": [
    "# Well, you ask, how does this allow me to stimulate an organoid?\n",
    "\n",
    "# So hear me out-----\n",
    "# The maxwell array has 24k+ electrodes!\n",
    "# We can only record from ~1024\n",
    "# And stimulate from 32\n",
    "# However you will only be stimulating from less than 5 electrodes, which we will\n",
    "# Identify to you as Neurons [0,1,2,3,4]\n",
    "\n",
    "# Above we played with making waveforms, this new method will be very similar,\n",
    "# Although it will be able to send the signal to the Maxwell device directly\n",
    "\n",
    "# There are digital to Analogue converters (DAC)s on this device that can\n",
    "# Convert signals similar to the one you created into a voltage waveform\n",
    "\n",
    "# However there is only one that you will be using!\n",
    "\n",
    "# WAIT, you say, how can we think about stimulating multiple neurons then?\n",
    "\n",
    "# Well, that's a good question, and thus we have to have a clever solution\n",
    "# What we'll do is power on/off the stimulation electrodes extremely rapidly\n",
    "# and with this we can make anything \n",
    "# (as long as you don't want 2 different waveforms simultaneously)\n",
    "\n",
    "# Lets take a look at how this works\n"
   ]
  },
  {
   "cell_type": "code",
   "execution_count": null,
   "id": "e73240eb",
   "metadata": {},
   "outputs": [],
   "source": [
    "# We can do this a few ways\n",
    "\n",
    "# ------- FreqEnv\n",
    "# If we want to use the \"FreqEnv\" we will send in either a stimulation sequence,\n",
    "# or a list of stimulation sequences. If it is one sequence, the environment will\n",
    "# stimulate that pattern at the requested frequency\n",
    "\n",
    "# If we send in a frequency and a list of sequences, the sequences will be stimulated\n",
    "# In order or randomly (if using the \"random\" param)\n",
    "\n",
    "# One thing to note is that --- max_time <= len(stim_seqs)*freq\n",
    "# Or in english, you need to have enough stimulations to last the whole time\n",
    "# -- or else no stimulations will occur\n",
    "\n",
    "#-------- OtherEnv ------\n",
    "# To be added\n",
    "\n",
    "\n"
   ]
  },
  {
   "cell_type": "code",
   "execution_count": null,
   "id": "90361129",
   "metadata": {},
   "outputs": [],
   "source": [
    "# How to define a sequence\n",
    "# --Warning, the length of the sequence should not be longer than the period\n",
    "# What this means, if you are trying to stimulation 10 times per second (10Hz)\n",
    "# You cannot create a stimulation pattern that is 1 second long \n",
    "\n",
    "\n",
    "# We will be using different code, but the logic is the same\n",
    "\n",
    "\n",
    "\n",
    "# For 'stim' command:\n",
    "# ('stim', [neuron inds], amplitude, frames per phase)\n",
    "# Phase is half a period, 1 frame is 50us\n",
    "\n",
    "# For 'delay'\n",
    "# ('delay', frames_delay)\n",
    "# 1 frames_delay is 50us\n",
    "# 20 frames_delay is 1ms\n",
    "\n",
    "# For 'next'\n",
    "# ('next', None)\n",
    "# This command acts as a placeholder to move to the next timepoint in the time_arr or the next\n",
    "# period triggered by the freq_Hz\n",
    "\n",
    "\n",
    "# Assume we want this pattern\n",
    "# neuron 0, 150mv, 200us per phase\n",
    "# 5ms delay\n",
    "# neuron 1,2, 200mv, 200us per phase\n",
    "# 20ms delay\n",
    "# neurons 0-4, 150mv, 200us per phase\n",
    "# 10ms delay\n",
    "# Repeat 10 times\n",
    "\n",
    "stim_list = []\n",
    "fs_ms = 20 # Good for converting frames to ms\n",
    "fs_us = .2\n",
    "\n",
    "seq = ('stim',[0],150,int(200*fs_us)) # Its weird this is in frames, how can this be more human readable\n",
    "stim_list.append(seq)\n",
    "seq = ('delay',fs_ms*5)\n",
    "stim_list.append(seq)\n",
    "\n",
    "seq = ('stim',[1],200,4)\n",
    "stim_list.append(seq)\n",
    "seq = ('delay',fs_ms*20)\n",
    "stim_list.append(seq)\n",
    "\n",
    "seq = ('stim',[0,1,2],150,4)\n",
    "stim_list.append(seq)\n",
    "seq = ('delay',fs_ms*20)\n",
    "stim_list.append(seq)\n",
    "\n",
    "seq = ('next',None)\n",
    "stim_list.append(seq)\n",
    "\n",
    "stim_list=stim_list*10 # repeat\n",
    "\n",
    "# for s in stim_list:\n",
    "#     print(s)\n",
    "\n",
    "\n",
    "\n",
    "\n",
    "\n",
    "def _create_stim_pulse_sequence(stim_list, freq_Hz=None, time_arr = None,max_time_s = 1):\n",
    "    \"\"\"\n",
    "    Creates a stim pulse sequence, parallels the real code that will run on the Maxwell\n",
    "    \n",
    "    Params:\n",
    "    stim_list - list of tuples indicating the commands to run\n",
    "            ------------------------------------------------\n",
    "            For 'stim' command:\n",
    "            ('stim', [neuron inds], mv, us per phase)\n",
    "\n",
    "            For 'delay'\n",
    "            ('delay', frames_delay)\n",
    "            \n",
    "            For 'next'\n",
    "            ('next', None)\n",
    "            This command acts as a placeholder to move to the next timepoint in the time_arr or the next\n",
    "            period triggered by the freq_Hz\n",
    "            -------------------------------------------------\n",
    "    freq_Hz - frequency to call the top stim_list in\n",
    "            *Note* this takes priority over time_arr\n",
    "    time_arr - array of time values that will be when the stimulations occur in order\n",
    "    \n",
    "    max_time_s - time in seconds to stimulate\n",
    "    \n",
    "    \n",
    "    Returns:\n",
    "    sig - np.array -- shape=(n_neurons, timesteps) of what the signal will look like\n",
    "    t - np.array   -- shape=(timesteps) of time in seconds\n",
    "    \"\"\"\n",
    "    \n",
    "    # Since this is fake, only parallels the code on the device,\n",
    "    # We have to make our own time\n",
    "    # And simulate what the stimulation will look like\n",
    "    \n",
    "    # Setup\n",
    "    fs = 20000\n",
    "    n_neurons = 3\n",
    "    t = np.arange(0,fs*max_time_s)/fs\n",
    "    sig = np.zeros(shape=(n_neurons,t.shape[0]))\n",
    "    \n",
    "    \n",
    "    # This would be generated in *real time*\n",
    "    if freq_Hz is not None:\n",
    "        # Until the time is right to stimulation the sequence\n",
    "        for time in t[::fs//freq_Hz]:\n",
    "            time_frames = int(time*fs)\n",
    "            \n",
    "            \n",
    "            if len(stim_list) == 0:\n",
    "                return sig\n",
    "            \n",
    "            #Build the sequence\n",
    "            command = None\n",
    "            \n",
    "            while (command != 'next'):\n",
    "                command, *params = stim_list.pop(0) # Get first thing off list\n",
    "                if command == 'stim':\n",
    "                    neurons, amplitude, phase_length = params\n",
    "                    \n",
    "                    # Change signal for each neuron\n",
    "                    for n in neurons:\n",
    "                        sig[n,:] = insert_square_wave_advanced(sig[n,:],time_frames,phase_length, amplitude=amplitude)\n",
    "                    time_frames += phase_length*2\n",
    "                    \n",
    "                if command == 'delay':\n",
    "                    time_frames += params[0]\n",
    "                    \n",
    "                #double checking here\n",
    "                if command == 'next':\n",
    "                    break \n",
    "                    \n",
    "        return sig,t\n",
    "                    \n",
    "\n",
    "\n",
    "\n",
    "\n",
    "sig,t = _create_stim_pulse_sequence(stim_list, freq_Hz=10)\n",
    "\n",
    "    "
   ]
  },
  {
   "cell_type": "code",
   "execution_count": null,
   "id": "679bb354",
   "metadata": {},
   "outputs": [],
   "source": [
    "\n",
    "plt.plot(t,sig.T)\n",
    "plt.legend(['a','b','c'])\n",
    "plt.show()"
   ]
  },
  {
   "cell_type": "code",
   "execution_count": null,
   "id": "fc03d1dd",
   "metadata": {},
   "outputs": [],
   "source": [
    "for i in range(3):\n",
    "    plt.plot(t,sig[i])\n",
    "    plt.show()"
   ]
  },
  {
   "cell_type": "code",
   "execution_count": null,
   "id": "f53050e0",
   "metadata": {},
   "outputs": [],
   "source": []
  },
  {
   "cell_type": "code",
   "execution_count": null,
   "id": "9c397c60",
   "metadata": {},
   "outputs": [],
   "source": []
  },
  {
   "cell_type": "code",
   "execution_count": null,
   "id": "89544546",
   "metadata": {},
   "outputs": [],
   "source": []
  }
 ],
 "metadata": {
  "hide_input": false,
  "kernelspec": {
   "display_name": "Python 3 (ipykernel)",
   "language": "python",
   "name": "python3"
  },
  "language_info": {
   "codemirror_mode": {
    "name": "ipython",
    "version": 3
   },
   "file_extension": ".py",
   "mimetype": "text/x-python",
   "name": "python",
   "nbconvert_exporter": "python",
   "pygments_lexer": "ipython3",
   "version": "3.10.10"
  },
  "toc": {
   "base_numbering": 1,
   "nav_menu": {},
   "number_sections": true,
   "sideBar": true,
   "skip_h1_title": false,
   "title_cell": "Table of Contents",
   "title_sidebar": "Contents",
   "toc_cell": false,
   "toc_position": {},
   "toc_section_display": true,
   "toc_window_display": false
  },
  "varInspector": {
   "cols": {
    "lenName": 16,
    "lenType": 16,
    "lenVar": 40
   },
   "kernels_config": {
    "python": {
     "delete_cmd_postfix": "",
     "delete_cmd_prefix": "del ",
     "library": "var_list.py",
     "varRefreshCmd": "print(var_dic_list())"
    },
    "r": {
     "delete_cmd_postfix": ") ",
     "delete_cmd_prefix": "rm(",
     "library": "var_list.r",
     "varRefreshCmd": "cat(var_dic_list()) "
    }
   },
   "types_to_exclude": [
    "module",
    "function",
    "builtin_function_or_method",
    "instance",
    "_Feature"
   ],
   "window_display": false
  }
 },
 "nbformat": 4,
 "nbformat_minor": 5
}
