{
 "cells": [
  {
   "cell_type": "code",
   "execution_count": 1,
   "metadata": {},
   "outputs": [],
   "source": [
    "from braingeneers import analysis\n",
    "import braingeneers.data.datasets_electrophysiology as ephys\n",
    "import braingeneers.utils.smart_open_braingeneers as smart_open\n",
    "import h5py\n",
    "import pandas as pd\n",
    "import matplotlib.pyplot as plt\n",
    "import numpy as np\n",
    "\n",
    "\n",
    "fs = 20000.0\n"
   ]
  },
  {
   "cell_type": "code",
   "execution_count": 2,
   "metadata": {},
   "outputs": [],
   "source": [
    "phy_path = \"/home/jovyan/work/Electrophysiology/data/ephys/2022-04-28-e-/derived/kilosort2/Trace_20220428_15_52_47_chip11350_curated.zip\"\n",
    "\n",
    "file_name = \"Haussler_Lab_Test\""
   ]
  },
  {
   "cell_type": "code",
   "execution_count": 3,
   "metadata": {},
   "outputs": [
    {
     "name": "stdout",
     "output_type": "stream",
     "text": [
      "604.8796\n",
      "113\n"
     ]
    }
   ],
   "source": [
    "spike_data = analysis.read_phy_files(phy_path)\n",
    "neuron_dict = spike_data.neuron_data[0]\n",
    "config = spike_data.metadata[0]\n",
    "rec_length = np.sort(np.hstack(spike_data.train))[-1] / 1000\n",
    "print(rec_length)\n",
    "print(spike_data.N)"
   ]
  },
  {
   "cell_type": "markdown",
   "metadata": {},
   "source": [
    "### Check isi violation and fire rate to curated the units"
   ]
  },
  {
   "cell_type": "code",
   "execution_count": 4,
   "metadata": {},
   "outputs": [],
   "source": [
    "# set a threshold for isi_viol_ratio\n",
    "# isi_viol_ratio = violation_rate / total_rate\n",
    "# violation_rate = num_violation / violation_time\n",
    "# total_rate = num_spikes / total_duration\n",
    "# violation_time = 2 * num_spikes * isi_threshold\n",
    "\n",
    "# why not simply num_violation / num_spikes\n",
    "\n",
    "isi_viol_thr = 0.3  # isi violation rate threshold: isi_viol < isi_viol_thr\n",
    "fr_thr = 0.1       # firing rate threshold: fr > fr_thr"
   ]
  },
  {
   "cell_type": "code",
   "execution_count": 5,
   "metadata": {},
   "outputs": [],
   "source": [
    "def curate_units(spike_times, isi_thr=3, isi_viol_thr=0, fr_thr=0):\n",
    "    rec_length = np.sort(np.hstack(spike_times))[-1] / 1000\n",
    "    non_viol_idx = []\n",
    "    for i in range(len(spike_times)):\n",
    "        num_spikes = len(spike_times[i])\n",
    "        isi = np.diff(spike_times[i])\n",
    "        isi_viol = np.sum(isi < isi_thr) \n",
    "        isi_viol_ratio = isi_viol / num_spikes\n",
    "        rate = num_spikes / rec_length\n",
    "        if isi_viol_ratio < isi_viol_thr and rate > fr_thr:\n",
    "            non_viol_idx.append(i)\n",
    "    return non_viol_idx"
   ]
  },
  {
   "cell_type": "code",
   "execution_count": 6,
   "metadata": {},
   "outputs": [
    {
     "name": "stdout",
     "output_type": "stream",
     "text": [
      "108\n"
     ]
    }
   ],
   "source": [
    "# remove units that has higher isi violation rate and smaller firing rate\n",
    "non_viol_idx = curate_units(spike_data.train, isi_viol_thr=0.3, fr_thr=0.1)    \n",
    "curated_neuron_dict = {i: neuron_dict[non_viol_idx[i]] for i in range(len(non_viol_idx))}\n",
    "curated_spike_times = [spike_data.train[k] for k in non_viol_idx]\n",
    "print(len(curated_neuron_dict))"
   ]
  },
  {
   "cell_type": "markdown",
   "metadata": {},
   "source": [
    "#### boxplot and histogram for fr distribution"
   ]
  },
  {
   "cell_type": "code",
   "execution_count": 7,
   "metadata": {},
   "outputs": [
    {
     "data": {
      "image/png": "[encoded data removed]",
      "text/plain": [
       "<Figure size 1200x600 with 2 Axes>"
      ]
     },
     "metadata": {},
     "output_type": "display_data"
    }
   ],
   "source": [
    "rates = [len(times)/rec_length for times in curated_spike_times]\n",
    "fig, axs = plt.subplots(1, 2, figsize=(12, 6), facecolor='white')\n",
    "axs[0].boxplot(rates, showfliers=True)\n",
    "axs[0].set_ylabel(\"Hz\")\n",
    "axs[1].hist(rates)\n",
    "axs[1].set_xlabel(\"Hz\")\n",
    "axs[1].set_ylabel(\"Counts\")\n",
    "plt.show()\n"
   ]
  },
  {
   "cell_type": "code",
   "execution_count": 8,
   "metadata": {},
   "outputs": [],
   "source": [
    "def plot_inset(axs, k, ch, position, temp_chs, temp_pos, templates, filename, nelec=2):\n",
    "    # fig, axs = plt.subplots(figsize=(16, 9), facecolor='white')\n",
    "    axs.set_title(\"{}\".format(filename) + \" cluster {} \".format(k) + \"channel {} \".format(str(ch) + str(position)))\n",
    "    assert len(temp_chs) == len(temp_pos) == len(templates), \"Input length should be the same!\"\n",
    "    nums = len(temp_chs)\n",
    "    pitch = 17.5\n",
    "    axs.scatter(position[0], position[1], linewidth=10, alpha=0.2, color='grey')\n",
    "    axs.text(position[0], position[1], str(position), color=\"g\", fontsize=12)\n",
    "    # set same scaling to the insets\n",
    "    index = list(temp_chs).index(ch)\n",
    "    ylim_min = min(templates[index])\n",
    "    ylim_max = max(templates[index])\n",
    "    # ylim_margin = (ylim_max - ylim_min)/10\n",
    "    ylim_margin = 0\n",
    "    # choose channels that are close to the center channel\n",
    "    for i in range(nums):\n",
    "        chn_pos = temp_pos[i]\n",
    "        if position[0] - nelec * pitch <= chn_pos[0] <= position[0] + nelec * pitch \\\n",
    "                and position[1] - nelec * pitch <= chn_pos[1] <= position[1] + nelec * pitch:\n",
    "            # axs.scatter(chn_pos[0], chn_pos[1], color='w')\n",
    "            axin = axs.inset_axes([chn_pos[0]-5, chn_pos[1]-5, 10, 10], transform=axs.transData)\n",
    "            axin.plot(templates[i], color='k', linewidth=2, alpha=0.7)\n",
    "            axin.set_ylim([ylim_min - ylim_margin, ylim_max + ylim_margin])\n",
    "            axin.set_axis_off()\n",
    "    # axs.legend(loc=\"upper right\", fontsize=12)\n",
    "    # axs.xaxis.set_visible(False)\n",
    "    # axs.yaxis.set_visible(False)\n",
    "    axs.set_xlim(position[0]-2*nelec*pitch, position[0]+2*nelec*pitch)\n",
    "    axs.set_ylim(position[1]-2*nelec*pitch, position[1]+2*nelec*pitch)\n",
    "    axs.invert_yaxis()\n",
    "    return axs"
   ]
  },
  {
   "cell_type": "code",
   "execution_count": 9,
   "metadata": {},
   "outputs": [],
   "source": [
    "def get_data_dict(neuron_dict, key):\n",
    "    ch = neuron_dict[key]['channel']\n",
    "    pos = neuron_dict[key]['position']\n",
    "    temp_chs = neuron_dict[key]['neighbor_channels']\n",
    "    temp_pos = neuron_dict[key]['neighbor_positions']\n",
    "    templates = neuron_dict[key]['neighbor_templates']\n",
    "    return ch, pos, temp_chs, temp_pos, templates"
   ]
  },
  {
   "cell_type": "code",
   "execution_count": 12,
   "metadata": {},
   "outputs": [],
   "source": [
    "def plot_footprint_with_isi(neuron_dict, spike_times, num_figure, figure_name):\n",
    "    for i in range(num_figure): \n",
    "        k = list(neuron_dict.keys())[i]\n",
    "        ch, pos, temp_chs, temp_pos, templates = get_data_dict(neuron_dict, k)\n",
    "        \n",
    "        isi = np.diff(spike_times[k])\n",
    "        ref_isi = isi[isi < 5]   # just plot isi < 5 ms\n",
    "\n",
    "        fig, axs = plt.subplots(1, 2, figsize=(12, 6), width_ratios=[2, 1], facecolor='white')\n",
    "        plot_inset(axs[0], k, ch, pos, temp_chs, temp_pos, templates, figure_name)\n",
    "        # plot isi \n",
    "        axs[1].hist(isi, bins=int(max(isi)))\n",
    "        axs[1].set_title(\"ISI Distribution\", fontsize=16)\n",
    "        axs[1].set_xlabel(\"ms\", fontsize=16)\n",
    "        axs[1].set_xlim(0, 5)\n"
   ]
  },
  {
   "cell_type": "code",
   "execution_count": null,
   "metadata": {},
   "outputs": [],
   "source": [
    "# num_figure should be smaller than the total number of curated units \n",
    "plot_footprint_with_isi(curated_neuron_dict, curated_spike_times, 3, file_name)"
   ]
  },
  {
   "cell_type": "code",
   "execution_count": null,
   "metadata": {},
   "outputs": [],
   "source": []
  },
  {
   "cell_type": "code",
   "execution_count": null,
   "metadata": {},
   "outputs": [],
   "source": []
  },
  {
   "cell_type": "code",
   "execution_count": null,
   "metadata": {},
   "outputs": [],
   "source": []
  },
  {
   "cell_type": "code",
   "execution_count": null,
   "metadata": {},
   "outputs": [],
   "source": []
  },
  {
   "cell_type": "code",
   "execution_count": null,
   "metadata": {},
   "outputs": [],
   "source": []
  }
 ],
 "metadata": {
  "hide_input": false,
  "kernelspec": {
   "display_name": "Python 3 (ipykernel)",
   "language": "python",
   "name": "python3"
  },
  "language_info": {
   "codemirror_mode": {
    "name": "ipython",
    "version": 3
   },
   "file_extension": ".py",
   "mimetype": "text/x-python",
   "name": "python",
   "nbconvert_exporter": "python",
   "pygments_lexer": "ipython3",
   "version": "3.10.10"
  },
  "toc": {
   "base_numbering": 1,
   "nav_menu": {},
   "number_sections": true,
   "sideBar": true,
   "skip_h1_title": false,
   "title_cell": "Table of Contents",
   "title_sidebar": "Contents",
   "toc_cell": false,
   "toc_position": {},
   "toc_section_display": true,
   "toc_window_display": false
  },
  "varInspector": {
   "cols": {
    "lenName": 16,
    "lenType": 16,
    "lenVar": 40
   },
   "kernels_config": {
    "python": {
     "delete_cmd_postfix": "",
     "delete_cmd_prefix": "del ",
     "library": "var_list.py",
     "varRefreshCmd": "print(var_dic_list())"
    },
    "r": {
     "delete_cmd_postfix": ") ",
     "delete_cmd_prefix": "rm(",
     "library": "var_list.r",
     "varRefreshCmd": "cat(var_dic_list()) "
    }
   },
   "types_to_exclude": [
    "module",
    "function",
    "builtin_function_or_method",
    "instance",
    "_Feature"
   ],
   "window_display": false
  }
 },
 "nbformat": 4,
 "nbformat_minor": 2
}
