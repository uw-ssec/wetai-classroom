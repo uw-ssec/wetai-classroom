{
 "cells": [
  {
   "cell_type": "code",
   "execution_count": 1,
   "id": "ff15befa",
   "metadata": {},
   "outputs": [
    {
     "ename": "ModuleNotFoundError",
     "evalue": "No module named 'braingeneers.utils.smart_open_braingeneers'",
     "output_type": "error",
     "traceback": [
      "\u001b[0;31m---------------------------------------------------------------------------\u001b[0m",
      "\u001b[0;31mModuleNotFoundError\u001b[0m                       Traceback (most recent call last)",
      "Input \u001b[0;32mIn [1]\u001b[0m, in \u001b[0;36m<module>\u001b[0;34m\u001b[0m\n\u001b[0;32m----> 1\u001b[0m \u001b[38;5;28;01mimport\u001b[39;00m \u001b[38;5;21;01mbraingeneers\u001b[39;00m\u001b[38;5;21;01m.\u001b[39;00m\u001b[38;5;21;01mutils\u001b[39;00m\u001b[38;5;21;01m.\u001b[39;00m\u001b[38;5;21;01msmart_open_braingeneers\u001b[39;00m \u001b[38;5;28;01mas\u001b[39;00m \u001b[38;5;21;01msmart_open\u001b[39;00m\n\u001b[1;32m      2\u001b[0m \u001b[38;5;28;01mimport\u001b[39;00m \u001b[38;5;21;01mnumpy\u001b[39;00m \u001b[38;5;28;01mas\u001b[39;00m \u001b[38;5;21;01mnp\u001b[39;00m\n\u001b[1;32m      3\u001b[0m \u001b[38;5;28;01mimport\u001b[39;00m \u001b[38;5;21;01mh5py\u001b[39;00m\n",
      "\u001b[0;31mModuleNotFoundError\u001b[0m: No module named 'braingeneers.utils.smart_open_braingeneers'"
     ]
    }
   ],
   "source": [
    "import braingeneers.utils.smart_open_braingeneers as smart_open\n",
    "import numpy as np\n",
    "import h5py\n",
    "import pandas as pd\n",
    "import matplotlib.pyplot as plt\n",
    "import seaborn as sns\n",
    "\n",
    "fs = 20000   # MaxWell sampling rate"
   ]
  },
  {
   "cell_type": "markdown",
   "id": "f290b43a",
   "metadata": {},
   "source": [
    "## Read electrode configuration and plot raw raster "
   ]
  },
  {
   "cell_type": "markdown",
   "id": "12fc09f4",
   "metadata": {},
   "source": [
    "### 1. Assign a dataset path"
   ]
  },
  {
   "cell_type": "code",
   "execution_count": null,
   "id": "be7ad3ee",
   "metadata": {},
   "outputs": [],
   "source": [
    "dataset_path = \"s3://braingeneers/ephys/2022-07-21-e-connectoid11821/original/data/Trace_20220721_15_07_06_chip11821.raw.h5\"\n",
    "fig_name = \"Trace_20220721_15_07_06_chip11821.raw.h5\""
   ]
  },
  {
   "cell_type": "markdown",
   "id": "0f37000f",
   "metadata": {},
   "source": [
    "### 2. Read out channel map and raw raster"
   ]
  },
  {
   "cell_type": "code",
   "execution_count": null,
   "id": "867fe89e",
   "metadata": {},
   "outputs": [],
   "source": [
    "with smart_open.open(dataset_path, 'rb') as f:\n",
    "    with h5py.File(f, 'r') as dataset:\n",
    "        version = dataset['version'][0]\n",
    "        data_time = dataset['time'][0].decode('utf-8')\n",
    "        config_df = pd.DataFrame({'pos_x': np.array(dataset['mapping']['x']), \n",
    "                                  'pos_y': np.array(dataset['mapping']['y']),\n",
    "                                  'channel': np.array(dataset['mapping']['channel'])})\n",
    "        raw_frame = np.array(dataset['proc0']['spikeTimes']['frameno'])\n",
    "        rec_startframe = dataset['sig'][-1, 0] << 16 | dataset['sig'][-2, 0]\n",
    "        proc0_df = pd.DataFrame({'channel': np.array(dataset['proc0']['spikeTimes']['channel']),\n",
    "                                 'frameno': (raw_frame - rec_startframe) / fs,\n",
    "                                 'amplitude': np.array(dataset['proc0']['spikeTimes']['amplitude'])})"
   ]
  },
  {
   "cell_type": "code",
   "execution_count": null,
   "id": "980b3223",
   "metadata": {
    "scrolled": true
   },
   "outputs": [],
   "source": [
    "mins, secs = divmod(proc0_df['frameno'].iloc[-1], 60)\n",
    "print(dataset_path, \"\\n\")\n",
    "print(\"MaxWell dataset version: \", version, \"\\n\")\n",
    "print(data_time)\n",
    "print(\"Recording length: %s minutes %s seconds\" % (int(mins), round(secs, 2)))\n",
    "print(\"Number of recoding sites: \", len(config_df['channel']))\n",
    "print(\"Channel id from\", min(config_df['channel']), \"to\", max(config_df['channel']))"
   ]
  },
  {
   "cell_type": "markdown",
   "id": "3b9ff3cb",
   "metadata": {},
   "source": [
    "### 3. Plot electrode configuration"
   ]
  },
  {
   "cell_type": "code",
   "execution_count": null,
   "id": "bc493021",
   "metadata": {
    "scrolled": true
   },
   "outputs": [],
   "source": [
    "fig, axs = plt.subplots(figsize=(11, 6))\n",
    "plt.title(fig_name + \" Electrode Map\", fontsize=16)\n",
    "elec_xy = np.asarray([(x, y) for x in np.arange(0, 3850, 17.5) for y in np.arange(0, 2100, 17.5)])\n",
    "axs.scatter(elec_xy[:, 0], elec_xy[:, 1], s=0.1, color='b', alpha=0.3)\n",
    "axs.scatter(config_df['pos_x'], config_df['pos_y'], s=1, color='k')\n",
    "axs.set_xlim(0, 3850)\n",
    "axs.set_ylim(0, 2100)\n",
    "axs.set_xticks([0, 3850])\n",
    "axs.set_yticks([0, 2100])\n",
    "axs.xaxis.set_tick_params(labelsize=16)\n",
    "axs.yaxis.set_tick_params(labelsize=16)\n",
    "axs.set_xlabel(u\"\\u03bcm\", fontsize=16)\n",
    "axs.set_ylabel(u\"\\u03bcm\", fontsize=16)\n",
    "axs.invert_yaxis()\n",
    "plt.savefig(fig_name + \"_Electrode_Map.jpeg\", dpi=300)\n",
    "plt.show()"
   ]
  },
  {
   "cell_type": "markdown",
   "id": "a66a1a34",
   "metadata": {},
   "source": [
    "### 4. Plot MaxWell raster"
   ]
  },
  {
   "cell_type": "code",
   "execution_count": null,
   "id": "c1e9ccba",
   "metadata": {},
   "outputs": [],
   "source": [
    "fig, axs = plt.subplots(figsize=(18, 8))\n",
    "plt.title(fig_name + \" Thresholding Raster\", fontsize=16)\n",
    "axs.scatter(proc0_df['frameno'], proc0_df['channel'], s=0.2, color='k')\n",
    "axs.set_xlabel(\"Time (s)\", fontsize=16)\n",
    "axs.set_ylabel(\"Channel\", fontsize=16)\n",
    "axs.xaxis.set_tick_params(labelsize=16)\n",
    "axs.yaxis.set_tick_params(labelsize=16)\n",
    "plt.savefig(fig_name + \"_Thresholding_Raster.jpeg\", dpi=300)\n",
    "plt.show()"
   ]
  },
  {
   "cell_type": "markdown",
   "id": "91456fab",
   "metadata": {},
   "source": [
    "### 5. Plot amplitude"
   ]
  },
  {
   "cell_type": "code",
   "execution_count": null,
   "id": "635ee961",
   "metadata": {},
   "outputs": [],
   "source": [
    "fig, axs = plt.subplots(figsize=(18, 8))\n",
    "plt.title(fig_name + \" Amplitude Raster\", fontsize=16)\n",
    "axs.scatter(proc0_df['frameno'], proc0_df['amplitude'], s=0.3, color='k')\n",
    "axs.set_xlabel(\"Time (s)\", fontsize=16)\n",
    "axs.set_ylabel(\"Voltage(uV)\", fontsize=16)\n",
    "axs.xaxis.set_tick_params(labelsize=16)\n",
    "axs.yaxis.set_tick_params(labelsize=16)\n",
    "plt.savefig(fig_name + \"_Amplitude_Raster.jpeg\", dpi=300)\n",
    "plt.show()"
   ]
  },
  {
   "cell_type": "code",
   "execution_count": null,
   "id": "704b52b3",
   "metadata": {
    "scrolled": false
   },
   "outputs": [],
   "source": [
    "fig, axs = plt.subplots(figsize=(8, 8))\n",
    "plt.title(\"Raster amplitude to channel\", fontsize=16)\n",
    "axs.scatter(proc0_df['channel'], proc0_df['amplitude'], s=0.3, color='k')\n",
    "axs.set_xlabel(\"Channel\", fontsize=16)\n",
    "axs.set_ylabel(\"Voltage(uV)\", fontsize=16)\n",
    "axs.xaxis.set_tick_params(labelsize=16)\n",
    "axs.yaxis.set_tick_params(labelsize=16)\n",
    "plt.show()"
   ]
  },
  {
   "cell_type": "markdown",
   "id": "883802c2",
   "metadata": {},
   "source": [
    "### Testing area"
   ]
  },
  {
   "cell_type": "code",
   "execution_count": null,
   "id": "79e59ecf",
   "metadata": {},
   "outputs": [],
   "source": [
    "# importing mplot3d toolkits\n",
    "from mpl_toolkits import mplot3d\n",
    " \n",
    "fig = plt.figure(figsize=(12, 12))\n",
    " \n",
    "# syntax for 3-D projection\n",
    "axs = plt.axes(projection ='3d')\n",
    " \n",
    "x = proc0_df['frameno']\n",
    "y = proc0_df['channel']\n",
    "z = proc0_df['amplitude']\n",
    "axs.scatter(x, y, z, s=0.1, color='k')\n",
    "axs.set_xlabel(\"Time (s)\", labelpad=16, fontsize=16)\n",
    "axs.set_ylabel(\"Channel\", labelpad=16, fontsize=16)\n",
    "axs.set_zlabel(\"Amplitude (uV)\", labelpad=16, fontsize=16)\n",
    "axs.xaxis.set_tick_params(labelsize=16)\n",
    "axs.yaxis.set_tick_params(labelsize=16)\n",
    "axs.zaxis.set_tick_params(labelsize=16)\n",
    "axs.invert_zaxis()\n",
    " \n",
    "\n",
    "plt.show()"
   ]
  },
  {
   "cell_type": "code",
   "execution_count": null,
   "id": "906f4497",
   "metadata": {
    "scrolled": false
   },
   "outputs": [],
   "source": [
    "# proc0_df_ht = proc0_df.pivot('channel', 'frameno', 'amplitude')\n",
    "# figure, axs = plt.subplots(figsize=(20, 8))\n",
    "# axs = sns.heatmap(proc0_df_ht, cmap='rainbow')\n",
    "# axs.set_facecolor('k')\n",
    "# axs.invert_yaxis()"
   ]
  }
 ],
 "metadata": {
  "hide_input": false,
  "kernelspec": {
   "display_name": "Python 3 (ipykernel)",
   "language": "python",
   "name": "python3"
  },
  "language_info": {
   "codemirror_mode": {
    "name": "ipython",
    "version": 3
   },
   "file_extension": ".py",
   "mimetype": "text/x-python",
   "name": "python",
   "nbconvert_exporter": "python",
   "pygments_lexer": "ipython3",
   "version": "3.9.7"
  },
  "toc": {
   "base_numbering": 1,
   "nav_menu": {},
   "number_sections": true,
   "sideBar": true,
   "skip_h1_title": false,
   "title_cell": "Table of Contents",
   "title_sidebar": "Contents",
   "toc_cell": false,
   "toc_position": {},
   "toc_section_display": true,
   "toc_window_display": false
  }
 },
 "nbformat": 4,
 "nbformat_minor": 5
}
